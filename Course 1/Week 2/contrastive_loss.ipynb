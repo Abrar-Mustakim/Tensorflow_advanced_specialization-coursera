{
  "nbformat": 4,
  "nbformat_minor": 0,
  "metadata": {
    "colab": {
      "name": "contrastive_loss.ipynb",
      "provenance": [],
      "collapsed_sections": []
    },
    "kernelspec": {
      "name": "python3",
      "display_name": "Python 3"
    },
    "language_info": {
      "name": "python"
    }
  },
  "cells": [
    {
      "cell_type": "code",
      "execution_count": 1,
      "metadata": {
        "id": "4R5XW3qLuI8u"
      },
      "outputs": [],
      "source": [
        "import tensorflow as tf \n",
        "from tensorflow.keras import backend as K\n"
      ]
    },
    {
      "cell_type": "code",
      "source": [
        "def contrastive_loss(y_true, y_pred):\n",
        "  margin = 1 \n",
        "  square_pred = K.square(y_pred)\n",
        "  margin_square = K.square(K.maximum(margin-y_pred, 0)) \n",
        "  return K.mean(y_true*square_pred+(1-y_true)*margin_square)"
      ],
      "metadata": {
        "id": "KGju9fDD6H74"
      },
      "execution_count": 2,
      "outputs": []
    },
    {
      "cell_type": "code",
      "source": [
        "def constrastive_loss_with_margin(margin):\n",
        "  def contrastive_loss(y_true, y_pred):\n",
        "  \n",
        "    square_pred = K.square(y_pred)\n",
        "    margin_square = K.square(K.maximum(margin-y_pred, 0)) \n",
        "    return K.mean(y_true*square_pred+(1-y_true)*margin_square)\n",
        "  return contrastive_loss "
      ],
      "metadata": {
        "id": "YDQ_Q7UD6hcl"
      },
      "execution_count": 3,
      "outputs": []
    },
    {
      "cell_type": "code",
      "source": [
        "# rms = RMSprop\n",
        "#model.compile(\n",
        "#    loss =  constrastive_loss_with_margin(margin=1),\n",
        "#    optimizer= rms\n",
        "#)"
      ],
      "metadata": {
        "id": "yewjOAN97Tit"
      },
      "execution_count": 4,
      "outputs": []
    },
    {
      "cell_type": "code",
      "source": [
        "from tensorflow.keras.losses import Loss\n",
        "class ContrastiveLoss(Loss):\n",
        "  def __init__(self, margin=0):\n",
        "    super().__init__()\n",
        "    self.margin = margin \n",
        "  def contrastive_loss(self, y_true, y_pred):\n",
        "  \n",
        "    square_pred = K.square(y_pred)\n",
        "    margin_square = K.square(K.maximum(self.margin-y_pred, 0)) \n",
        "    return K.mean(y_true*square_pred+(1-y_true)*margin_square)\n",
        "\n",
        "#model.compile(loss=ContrastiveLoss(margin=1), optimizer=rms)\n",
        "  "
      ],
      "metadata": {
        "id": "CxyPj-B_7fZr"
      },
      "execution_count": 6,
      "outputs": []
    }
  ]
}