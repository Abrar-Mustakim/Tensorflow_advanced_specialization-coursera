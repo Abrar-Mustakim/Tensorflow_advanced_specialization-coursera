{
  "nbformat": 4,
  "nbformat_minor": 0,
  "metadata": {
    "colab": {
      "name": "Huber_loss_object.ipynb",
      "provenance": [],
      "collapsed_sections": []
    },
    "kernelspec": {
      "name": "python3",
      "display_name": "Python 3"
    },
    "language_info": {
      "name": "python"
    }
  },
  "cells": [
    {
      "cell_type": "code",
      "execution_count": 1,
      "metadata": {
        "id": "-r9EquyGm7xp"
      },
      "outputs": [],
      "source": [
        "try:\n",
        "    # %tensorflow_version only exists in Colab.\n",
        "    %tensorflow_version 2.x\n",
        "except Exception:\n",
        "    pass\n",
        "\n",
        "import tensorflow as tf\n",
        "import numpy as np\n",
        "from tensorflow import keras"
      ]
    },
    {
      "cell_type": "code",
      "source": [
        "# inputs\n",
        "xs = np.array([-1.0,  0.0, 1.0, 2.0, 3.0, 4.0], dtype=float)\n",
        "\n",
        "# labels\n",
        "ys = np.array([-3.0, -1.0, 1.0, 3.0, 5.0, 7.0], dtype=float)"
      ],
      "metadata": {
        "id": "e_nVxfcunDiU"
      },
      "execution_count": 2,
      "outputs": []
    },
    {
      "cell_type": "code",
      "source": [
        "def my_huber_loss_with_threshold(threshold):\n",
        "  \n",
        "  def my_huber_loss(y_true, y_pred):\n",
        "\n",
        "    error = y_true - y_pred   \n",
        "\n",
        "    is_small_error = tf.abs(error) <= threshold \n",
        "\n",
        "    small_error_loss = tf.square(error) / 2 \n",
        "\n",
        "    big_error_loss = threshold * (tf.abs(error)- (0.5*threshold)) \n",
        "\n",
        "    return tf.where(is_small_error, small_error_loss, big_error_loss) \n",
        "\n",
        "  return my_huber_loss\n",
        "\n",
        "\n"
      ],
      "metadata": {
        "id": "ESG5fc_cnFAF"
      },
      "execution_count": 3,
      "outputs": []
    },
    {
      "cell_type": "code",
      "source": [
        "model = tf.keras.Sequential([keras.layers.Dense(units=1, input_shape=[1])])\n",
        "model.compile(optimizer='sgd', loss=my_huber_loss_with_threshold(threshold=1.2))\n",
        "model.fit(xs, ys, epochs=500,verbose=0)\n",
        "print(model.predict([10.0]))"
      ],
      "metadata": {
        "colab": {
          "base_uri": "https://localhost:8080/"
        },
        "id": "dR7SfE-6oIWd",
        "outputId": "634b09db-eaa8-44e9-cfbb-032340850689"
      },
      "execution_count": 4,
      "outputs": [
        {
          "output_type": "stream",
          "name": "stdout",
          "text": [
            "[[18.577883]]\n"
          ]
        }
      ]
    },
    {
      "cell_type": "code",
      "source": [
        "from tensorflow.keras.losses import Loss   \n",
        "\n",
        "class MyHuberLoss(Loss):\n",
        "\n",
        "  def __init__(self, threshold=1):\n",
        "    super().__init__()\n",
        "\n",
        "    self.threshold = threshold \n",
        "\n",
        "  def call(self, y_true, y_pred):\n",
        "\n",
        "    error = y_true - y_pred   \n",
        "\n",
        "    is_small_error = tf.abs(error) <= self.threshold \n",
        "\n",
        "    small_error_loss = tf.square(error) / 2 \n",
        "\n",
        "    big_error_loss = self.threshold * (tf.abs(error)- (0.5* self.threshold)) \n",
        "\n",
        "    return tf.where(is_small_error, small_error_loss, big_error_loss)"
      ],
      "metadata": {
        "id": "pou6fUNnoLXd"
      },
      "execution_count": 8,
      "outputs": []
    },
    {
      "cell_type": "code",
      "source": [
        "model = tf.keras.Sequential([keras.layers.Dense(units=1, input_shape=[1])])\n",
        "model.compile(optimizer='sgd', loss=MyHuberLoss(threshold=1.02))\n",
        "model.fit(xs, ys, epochs=500,verbose=0)\n",
        "print(model.predict([10.0]))"
      ],
      "metadata": {
        "colab": {
          "base_uri": "https://localhost:8080/"
        },
        "id": "Woe2Hm0hprDH",
        "outputId": "a4b413ec-836f-433b-e5f7-fe8e35c1b4c7"
      },
      "execution_count": 9,
      "outputs": [
        {
          "output_type": "stream",
          "name": "stdout",
          "text": [
            "[[18.823458]]\n"
          ]
        }
      ]
    }
  ]
}