{
  "nbformat": 4,
  "nbformat_minor": 0,
  "metadata": {
    "colab": {
      "name": "multi-output.ipynb",
      "provenance": []
    },
    "kernelspec": {
      "name": "python3",
      "display_name": "Python 3"
    },
    "language_info": {
      "name": "python"
    }
  },
  "cells": [
    {
      "cell_type": "code",
      "execution_count": null,
      "metadata": {
        "id": "ts6EvpgzNav_",
        "colab": {
          "base_uri": "https://localhost:8080/",
          "height": 35
        },
        "outputId": "4c4cf313-ec00-4ed2-81e2-9ac8fb8aa13c"
      },
      "outputs": [
        {
          "output_type": "execute_result",
          "data": {
            "text/plain": [
              "'2.8.0'"
            ],
            "application/vnd.google.colaboratory.intrinsic+json": {
              "type": "string"
            }
          },
          "metadata": {},
          "execution_count": 1
        }
      ],
      "source": [
        "import tensorflow as tf\n",
        "tf.__version__"
      ]
    },
    {
      "cell_type": "code",
      "source": [
        "!pip install tensorflow-gpu==2.1.0"
      ],
      "metadata": {
        "colab": {
          "base_uri": "https://localhost:8080/",
          "height": 1000
        },
        "id": "6PYQ5AzTOilq",
        "outputId": "06287385-0e85-4e93-e602-516a9553224b"
      },
      "execution_count": null,
      "outputs": [
        {
          "output_type": "stream",
          "name": "stdout",
          "text": [
            "Collecting tensorflow-gpu==2.1.0\n",
            "  Downloading tensorflow_gpu-2.1.0-cp37-cp37m-manylinux2010_x86_64.whl (421.8 MB)\n",
            "\u001b[K     |████████████████████████████████| 421.8 MB 5.4 kB/s \n",
            "\u001b[?25hCollecting tensorboard<2.2.0,>=2.1.0\n",
            "  Downloading tensorboard-2.1.1-py3-none-any.whl (3.8 MB)\n",
            "\u001b[K     |████████████████████████████████| 3.8 MB 32.4 MB/s \n",
            "\u001b[?25hRequirement already satisfied: grpcio>=1.8.6 in /usr/local/lib/python3.7/dist-packages (from tensorflow-gpu==2.1.0) (1.44.0)\n",
            "Requirement already satisfied: keras-preprocessing>=1.1.0 in /usr/local/lib/python3.7/dist-packages (from tensorflow-gpu==2.1.0) (1.1.2)\n",
            "Collecting tensorflow-estimator<2.2.0,>=2.1.0rc0\n",
            "  Downloading tensorflow_estimator-2.1.0-py2.py3-none-any.whl (448 kB)\n",
            "\u001b[K     |████████████████████████████████| 448 kB 44.9 MB/s \n",
            "\u001b[?25hRequirement already satisfied: wheel>=0.26 in /usr/local/lib/python3.7/dist-packages (from tensorflow-gpu==2.1.0) (0.37.1)\n",
            "Requirement already satisfied: wrapt>=1.11.1 in /usr/local/lib/python3.7/dist-packages (from tensorflow-gpu==2.1.0) (1.14.0)\n",
            "Requirement already satisfied: six>=1.12.0 in /usr/local/lib/python3.7/dist-packages (from tensorflow-gpu==2.1.0) (1.15.0)\n",
            "Collecting keras-applications>=1.0.8\n",
            "  Downloading Keras_Applications-1.0.8-py3-none-any.whl (50 kB)\n",
            "\u001b[K     |████████████████████████████████| 50 kB 6.8 MB/s \n",
            "\u001b[?25hRequirement already satisfied: protobuf>=3.8.0 in /usr/local/lib/python3.7/dist-packages (from tensorflow-gpu==2.1.0) (3.17.3)\n",
            "Requirement already satisfied: absl-py>=0.7.0 in /usr/local/lib/python3.7/dist-packages (from tensorflow-gpu==2.1.0) (1.0.0)\n",
            "Requirement already satisfied: opt-einsum>=2.3.2 in /usr/local/lib/python3.7/dist-packages (from tensorflow-gpu==2.1.0) (3.3.0)\n",
            "Requirement already satisfied: scipy==1.4.1 in /usr/local/lib/python3.7/dist-packages (from tensorflow-gpu==2.1.0) (1.4.1)\n",
            "Requirement already satisfied: numpy<2.0,>=1.16.0 in /usr/local/lib/python3.7/dist-packages (from tensorflow-gpu==2.1.0) (1.21.6)\n",
            "Requirement already satisfied: termcolor>=1.1.0 in /usr/local/lib/python3.7/dist-packages (from tensorflow-gpu==2.1.0) (1.1.0)\n",
            "Requirement already satisfied: astor>=0.6.0 in /usr/local/lib/python3.7/dist-packages (from tensorflow-gpu==2.1.0) (0.8.1)\n",
            "Requirement already satisfied: google-pasta>=0.1.6 in /usr/local/lib/python3.7/dist-packages (from tensorflow-gpu==2.1.0) (0.2.0)\n",
            "Collecting gast==0.2.2\n",
            "  Downloading gast-0.2.2.tar.gz (10 kB)\n",
            "Requirement already satisfied: h5py in /usr/local/lib/python3.7/dist-packages (from keras-applications>=1.0.8->tensorflow-gpu==2.1.0) (3.1.0)\n",
            "Requirement already satisfied: google-auth<2,>=1.6.3 in /usr/local/lib/python3.7/dist-packages (from tensorboard<2.2.0,>=2.1.0->tensorflow-gpu==2.1.0) (1.35.0)\n",
            "Requirement already satisfied: werkzeug>=0.11.15 in /usr/local/lib/python3.7/dist-packages (from tensorboard<2.2.0,>=2.1.0->tensorflow-gpu==2.1.0) (1.0.1)\n",
            "Requirement already satisfied: setuptools>=41.0.0 in /usr/local/lib/python3.7/dist-packages (from tensorboard<2.2.0,>=2.1.0->tensorflow-gpu==2.1.0) (57.4.0)\n",
            "Requirement already satisfied: markdown>=2.6.8 in /usr/local/lib/python3.7/dist-packages (from tensorboard<2.2.0,>=2.1.0->tensorflow-gpu==2.1.0) (3.3.6)\n",
            "Requirement already satisfied: requests<3,>=2.21.0 in /usr/local/lib/python3.7/dist-packages (from tensorboard<2.2.0,>=2.1.0->tensorflow-gpu==2.1.0) (2.23.0)\n",
            "Requirement already satisfied: google-auth-oauthlib<0.5,>=0.4.1 in /usr/local/lib/python3.7/dist-packages (from tensorboard<2.2.0,>=2.1.0->tensorflow-gpu==2.1.0) (0.4.6)\n",
            "Requirement already satisfied: pyasn1-modules>=0.2.1 in /usr/local/lib/python3.7/dist-packages (from google-auth<2,>=1.6.3->tensorboard<2.2.0,>=2.1.0->tensorflow-gpu==2.1.0) (0.2.8)\n",
            "Requirement already satisfied: cachetools<5.0,>=2.0.0 in /usr/local/lib/python3.7/dist-packages (from google-auth<2,>=1.6.3->tensorboard<2.2.0,>=2.1.0->tensorflow-gpu==2.1.0) (4.2.4)\n",
            "Requirement already satisfied: rsa<5,>=3.1.4 in /usr/local/lib/python3.7/dist-packages (from google-auth<2,>=1.6.3->tensorboard<2.2.0,>=2.1.0->tensorflow-gpu==2.1.0) (4.8)\n",
            "Requirement already satisfied: requests-oauthlib>=0.7.0 in /usr/local/lib/python3.7/dist-packages (from google-auth-oauthlib<0.5,>=0.4.1->tensorboard<2.2.0,>=2.1.0->tensorflow-gpu==2.1.0) (1.3.1)\n",
            "Requirement already satisfied: importlib-metadata>=4.4 in /usr/local/lib/python3.7/dist-packages (from markdown>=2.6.8->tensorboard<2.2.0,>=2.1.0->tensorflow-gpu==2.1.0) (4.11.3)\n",
            "Requirement already satisfied: typing-extensions>=3.6.4 in /usr/local/lib/python3.7/dist-packages (from importlib-metadata>=4.4->markdown>=2.6.8->tensorboard<2.2.0,>=2.1.0->tensorflow-gpu==2.1.0) (4.2.0)\n",
            "Requirement already satisfied: zipp>=0.5 in /usr/local/lib/python3.7/dist-packages (from importlib-metadata>=4.4->markdown>=2.6.8->tensorboard<2.2.0,>=2.1.0->tensorflow-gpu==2.1.0) (3.8.0)\n",
            "Requirement already satisfied: pyasn1<0.5.0,>=0.4.6 in /usr/local/lib/python3.7/dist-packages (from pyasn1-modules>=0.2.1->google-auth<2,>=1.6.3->tensorboard<2.2.0,>=2.1.0->tensorflow-gpu==2.1.0) (0.4.8)\n",
            "Requirement already satisfied: chardet<4,>=3.0.2 in /usr/local/lib/python3.7/dist-packages (from requests<3,>=2.21.0->tensorboard<2.2.0,>=2.1.0->tensorflow-gpu==2.1.0) (3.0.4)\n",
            "Requirement already satisfied: certifi>=2017.4.17 in /usr/local/lib/python3.7/dist-packages (from requests<3,>=2.21.0->tensorboard<2.2.0,>=2.1.0->tensorflow-gpu==2.1.0) (2021.10.8)\n",
            "Requirement already satisfied: urllib3!=1.25.0,!=1.25.1,<1.26,>=1.21.1 in /usr/local/lib/python3.7/dist-packages (from requests<3,>=2.21.0->tensorboard<2.2.0,>=2.1.0->tensorflow-gpu==2.1.0) (1.24.3)\n",
            "Requirement already satisfied: idna<3,>=2.5 in /usr/local/lib/python3.7/dist-packages (from requests<3,>=2.21.0->tensorboard<2.2.0,>=2.1.0->tensorflow-gpu==2.1.0) (2.10)\n",
            "Requirement already satisfied: oauthlib>=3.0.0 in /usr/local/lib/python3.7/dist-packages (from requests-oauthlib>=0.7.0->google-auth-oauthlib<0.5,>=0.4.1->tensorboard<2.2.0,>=2.1.0->tensorflow-gpu==2.1.0) (3.2.0)\n",
            "Requirement already satisfied: cached-property in /usr/local/lib/python3.7/dist-packages (from h5py->keras-applications>=1.0.8->tensorflow-gpu==2.1.0) (1.5.2)\n",
            "Building wheels for collected packages: gast\n",
            "  Building wheel for gast (setup.py) ... \u001b[?25l\u001b[?25hdone\n",
            "  Created wheel for gast: filename=gast-0.2.2-py3-none-any.whl size=7554 sha256=f2eeb236997bd477faadbc2e16470b59d3eade6a4135a2c4d529d66a9b0f9097\n",
            "  Stored in directory: /root/.cache/pip/wheels/21/7f/02/420f32a803f7d0967b48dd823da3f558c5166991bfd204eef3\n",
            "Successfully built gast\n",
            "Installing collected packages: tensorflow-estimator, tensorboard, keras-applications, gast, tensorflow-gpu\n",
            "  Attempting uninstall: tensorflow-estimator\n",
            "    Found existing installation: tensorflow-estimator 2.8.0\n",
            "    Uninstalling tensorflow-estimator-2.8.0:\n",
            "      Successfully uninstalled tensorflow-estimator-2.8.0\n",
            "  Attempting uninstall: tensorboard\n",
            "    Found existing installation: tensorboard 2.8.0\n",
            "    Uninstalling tensorboard-2.8.0:\n",
            "      Successfully uninstalled tensorboard-2.8.0\n",
            "  Attempting uninstall: gast\n",
            "    Found existing installation: gast 0.5.3\n",
            "    Uninstalling gast-0.5.3:\n",
            "      Successfully uninstalled gast-0.5.3\n",
            "\u001b[31mERROR: pip's dependency resolver does not currently take into account all the packages that are installed. This behaviour is the source of the following dependency conflicts.\n",
            "tensorflow 2.8.0 requires tf-estimator-nightly==2.8.0.dev2021122109, which is not installed.\n",
            "tensorflow 2.8.0 requires tensorboard<2.9,>=2.8, but you have tensorboard 2.1.1 which is incompatible.\n",
            "tensorflow-probability 0.16.0 requires gast>=0.3.2, but you have gast 0.2.2 which is incompatible.\u001b[0m\n",
            "Successfully installed gast-0.2.2 keras-applications-1.0.8 tensorboard-2.1.1 tensorflow-estimator-2.1.0 tensorflow-gpu-2.1.0\n"
          ]
        },
        {
          "output_type": "display_data",
          "data": {
            "application/vnd.colab-display-data+json": {
              "pip_warning": {
                "packages": [
                  "gast",
                  "tensorboard",
                  "tensorflow"
                ]
              }
            }
          },
          "metadata": {}
        }
      ]
    },
    {
      "cell_type": "code",
      "source": [
        "import tensorflow as tf\n",
        "tf.__version__"
      ],
      "metadata": {
        "colab": {
          "base_uri": "https://localhost:8080/",
          "height": 35
        },
        "id": "0d0GmdU-PIWQ",
        "outputId": "13ae032b-1e90-4194-ab57-186c421a6787"
      },
      "execution_count": null,
      "outputs": [
        {
          "output_type": "execute_result",
          "data": {
            "text/plain": [
              "'2.1.0'"
            ],
            "application/vnd.google.colaboratory.intrinsic+json": {
              "type": "string"
            }
          },
          "metadata": {},
          "execution_count": 1
        }
      ]
    },
    {
      "cell_type": "code",
      "source": [
        "from tensorflow.keras.layers import Input \n",
        "from tensorflow.keras.layers import Dense, Flatten \n",
        "from tensorflow.python.keras.utils.vis_utils import plot_model \n",
        "from tensorflow.keras.models import Model \n",
        "from sklearn.model_selection import train_test_split\n",
        "import pandas as pd\n",
        "import numpy as np\n",
        "import matplotlib.pyplot as plt "
      ],
      "metadata": {
        "id": "sl4PdBk0PIZZ"
      },
      "execution_count": null,
      "outputs": []
    },
    {
      "cell_type": "code",
      "source": [
        "def format_output(data):\n",
        "  y1 = data.pop(\"Y1\")\n",
        "  y1 = np.array(y1)\n",
        "  y2 = data.pop(\"Y2\")\n",
        "  y2 = np.array(y2) \n",
        "  return y1,y2"
      ],
      "metadata": {
        "id": "4IJhdxPRPaDj"
      },
      "execution_count": null,
      "outputs": []
    },
    {
      "cell_type": "code",
      "source": [
        "def norm(x):\n",
        "  return (x - train_stats[\"mean\"])/train_stats[\"std\"]"
      ],
      "metadata": {
        "id": "czgMSgbIQcO5"
      },
      "execution_count": null,
      "outputs": []
    },
    {
      "cell_type": "code",
      "source": [
        "def plot_diff(y_true, y_pred, title=\"\"):\n",
        "  plt.scatter(y_true, y_pred)\n",
        "  plt.title(title)\n",
        "  plt.xlabel(\"True Values\")\n",
        "  plt.ylabel(\"Prediction\")\n",
        "  plt.axis(\"equal\")\n",
        "  plt.axis(\"square\")\n",
        "  plt.xlim(plt.xlim())\n",
        "  plt.ylim(plt.ylim())\n",
        "  plt.plot([-100, 100], [-100, 100])\n",
        "  plt.show()"
      ],
      "metadata": {
        "id": "Eda_5Zi3UJbM"
      },
      "execution_count": null,
      "outputs": []
    },
    {
      "cell_type": "code",
      "source": [
        "def plot_matrics(metric_name, title, ylim=5):\n",
        "  plt.title(title)\n",
        "  plt.ylim(0, ylim)\n",
        "  plt.plot(history.history[metric_name], color=\"blue\", label=metric_name)\n",
        "  plt.plot(history.history[\"val_\"+metric_name], color=\"green\", label=\"val_\"+metric_name)\n"
      ],
      "metadata": {
        "id": "Wq-8RoWsW0j0"
      },
      "execution_count": 50,
      "outputs": []
    },
    {
      "cell_type": "code",
      "source": [
        ""
      ],
      "metadata": {
        "colab": {
          "base_uri": "https://localhost:8080/",
          "height": 424
        },
        "id": "rD_zU6drXh72",
        "outputId": "5e2f8ec2-6372-4935-c502-b3a48958a87c"
      },
      "execution_count": null,
      "outputs": [
        {
          "output_type": "execute_result",
          "data": {
            "text/plain": [
              "       X1     X2     X3     X4   X5  X6    X7  X8     Y1     Y2\n",
              "0    0.69  735.0  294.0  220.5  3.5   2  0.10   1  11.11  14.28\n",
              "1    0.76  661.5  416.5  122.5  7.0   2  0.40   4  40.68  40.36\n",
              "2    0.90  563.5  318.5  122.5  7.0   5  0.40   1  35.96  40.99\n",
              "3    0.82  612.5  318.5  147.0  7.0   4  0.10   5  22.89  28.88\n",
              "4    0.90  563.5  318.5  122.5  7.0   3  0.40   2  36.57  35.39\n",
              "..    ...    ...    ...    ...  ...  ..   ...  ..    ...    ...\n",
              "763  0.74  686.0  245.0  220.5  3.5   2  0.40   2  14.54  16.43\n",
              "764  0.62  808.5  367.5  220.5  3.5   5  0.10   4  13.00  14.47\n",
              "765  0.82  612.5  318.5  147.0  7.0   2  0.25   1  26.84  30.17\n",
              "766  0.90  563.5  318.5  122.5  7.0   2  0.40   1  36.47  39.28\n",
              "767  0.74  686.0  245.0  220.5  3.5   3  0.40   5  14.19  16.62\n",
              "\n",
              "[768 rows x 10 columns]"
            ],
            "text/html": [
              "\n",
              "  <div id=\"df-5bdc1376-8d98-4926-9629-2ba17587124b\">\n",
              "    <div class=\"colab-df-container\">\n",
              "      <div>\n",
              "<style scoped>\n",
              "    .dataframe tbody tr th:only-of-type {\n",
              "        vertical-align: middle;\n",
              "    }\n",
              "\n",
              "    .dataframe tbody tr th {\n",
              "        vertical-align: top;\n",
              "    }\n",
              "\n",
              "    .dataframe thead th {\n",
              "        text-align: right;\n",
              "    }\n",
              "</style>\n",
              "<table border=\"1\" class=\"dataframe\">\n",
              "  <thead>\n",
              "    <tr style=\"text-align: right;\">\n",
              "      <th></th>\n",
              "      <th>X1</th>\n",
              "      <th>X2</th>\n",
              "      <th>X3</th>\n",
              "      <th>X4</th>\n",
              "      <th>X5</th>\n",
              "      <th>X6</th>\n",
              "      <th>X7</th>\n",
              "      <th>X8</th>\n",
              "      <th>Y1</th>\n",
              "      <th>Y2</th>\n",
              "    </tr>\n",
              "  </thead>\n",
              "  <tbody>\n",
              "    <tr>\n",
              "      <th>0</th>\n",
              "      <td>0.69</td>\n",
              "      <td>735.0</td>\n",
              "      <td>294.0</td>\n",
              "      <td>220.5</td>\n",
              "      <td>3.5</td>\n",
              "      <td>2</td>\n",
              "      <td>0.10</td>\n",
              "      <td>1</td>\n",
              "      <td>11.11</td>\n",
              "      <td>14.28</td>\n",
              "    </tr>\n",
              "    <tr>\n",
              "      <th>1</th>\n",
              "      <td>0.76</td>\n",
              "      <td>661.5</td>\n",
              "      <td>416.5</td>\n",
              "      <td>122.5</td>\n",
              "      <td>7.0</td>\n",
              "      <td>2</td>\n",
              "      <td>0.40</td>\n",
              "      <td>4</td>\n",
              "      <td>40.68</td>\n",
              "      <td>40.36</td>\n",
              "    </tr>\n",
              "    <tr>\n",
              "      <th>2</th>\n",
              "      <td>0.90</td>\n",
              "      <td>563.5</td>\n",
              "      <td>318.5</td>\n",
              "      <td>122.5</td>\n",
              "      <td>7.0</td>\n",
              "      <td>5</td>\n",
              "      <td>0.40</td>\n",
              "      <td>1</td>\n",
              "      <td>35.96</td>\n",
              "      <td>40.99</td>\n",
              "    </tr>\n",
              "    <tr>\n",
              "      <th>3</th>\n",
              "      <td>0.82</td>\n",
              "      <td>612.5</td>\n",
              "      <td>318.5</td>\n",
              "      <td>147.0</td>\n",
              "      <td>7.0</td>\n",
              "      <td>4</td>\n",
              "      <td>0.10</td>\n",
              "      <td>5</td>\n",
              "      <td>22.89</td>\n",
              "      <td>28.88</td>\n",
              "    </tr>\n",
              "    <tr>\n",
              "      <th>4</th>\n",
              "      <td>0.90</td>\n",
              "      <td>563.5</td>\n",
              "      <td>318.5</td>\n",
              "      <td>122.5</td>\n",
              "      <td>7.0</td>\n",
              "      <td>3</td>\n",
              "      <td>0.40</td>\n",
              "      <td>2</td>\n",
              "      <td>36.57</td>\n",
              "      <td>35.39</td>\n",
              "    </tr>\n",
              "    <tr>\n",
              "      <th>...</th>\n",
              "      <td>...</td>\n",
              "      <td>...</td>\n",
              "      <td>...</td>\n",
              "      <td>...</td>\n",
              "      <td>...</td>\n",
              "      <td>...</td>\n",
              "      <td>...</td>\n",
              "      <td>...</td>\n",
              "      <td>...</td>\n",
              "      <td>...</td>\n",
              "    </tr>\n",
              "    <tr>\n",
              "      <th>763</th>\n",
              "      <td>0.74</td>\n",
              "      <td>686.0</td>\n",
              "      <td>245.0</td>\n",
              "      <td>220.5</td>\n",
              "      <td>3.5</td>\n",
              "      <td>2</td>\n",
              "      <td>0.40</td>\n",
              "      <td>2</td>\n",
              "      <td>14.54</td>\n",
              "      <td>16.43</td>\n",
              "    </tr>\n",
              "    <tr>\n",
              "      <th>764</th>\n",
              "      <td>0.62</td>\n",
              "      <td>808.5</td>\n",
              "      <td>367.5</td>\n",
              "      <td>220.5</td>\n",
              "      <td>3.5</td>\n",
              "      <td>5</td>\n",
              "      <td>0.10</td>\n",
              "      <td>4</td>\n",
              "      <td>13.00</td>\n",
              "      <td>14.47</td>\n",
              "    </tr>\n",
              "    <tr>\n",
              "      <th>765</th>\n",
              "      <td>0.82</td>\n",
              "      <td>612.5</td>\n",
              "      <td>318.5</td>\n",
              "      <td>147.0</td>\n",
              "      <td>7.0</td>\n",
              "      <td>2</td>\n",
              "      <td>0.25</td>\n",
              "      <td>1</td>\n",
              "      <td>26.84</td>\n",
              "      <td>30.17</td>\n",
              "    </tr>\n",
              "    <tr>\n",
              "      <th>766</th>\n",
              "      <td>0.90</td>\n",
              "      <td>563.5</td>\n",
              "      <td>318.5</td>\n",
              "      <td>122.5</td>\n",
              "      <td>7.0</td>\n",
              "      <td>2</td>\n",
              "      <td>0.40</td>\n",
              "      <td>1</td>\n",
              "      <td>36.47</td>\n",
              "      <td>39.28</td>\n",
              "    </tr>\n",
              "    <tr>\n",
              "      <th>767</th>\n",
              "      <td>0.74</td>\n",
              "      <td>686.0</td>\n",
              "      <td>245.0</td>\n",
              "      <td>220.5</td>\n",
              "      <td>3.5</td>\n",
              "      <td>3</td>\n",
              "      <td>0.40</td>\n",
              "      <td>5</td>\n",
              "      <td>14.19</td>\n",
              "      <td>16.62</td>\n",
              "    </tr>\n",
              "  </tbody>\n",
              "</table>\n",
              "<p>768 rows × 10 columns</p>\n",
              "</div>\n",
              "      <button class=\"colab-df-convert\" onclick=\"convertToInteractive('df-5bdc1376-8d98-4926-9629-2ba17587124b')\"\n",
              "              title=\"Convert this dataframe to an interactive table.\"\n",
              "              style=\"display:none;\">\n",
              "        \n",
              "  <svg xmlns=\"http://www.w3.org/2000/svg\" height=\"24px\"viewBox=\"0 0 24 24\"\n",
              "       width=\"24px\">\n",
              "    <path d=\"M0 0h24v24H0V0z\" fill=\"none\"/>\n",
              "    <path d=\"M18.56 5.44l.94 2.06.94-2.06 2.06-.94-2.06-.94-.94-2.06-.94 2.06-2.06.94zm-11 1L8.5 8.5l.94-2.06 2.06-.94-2.06-.94L8.5 2.5l-.94 2.06-2.06.94zm10 10l.94 2.06.94-2.06 2.06-.94-2.06-.94-.94-2.06-.94 2.06-2.06.94z\"/><path d=\"M17.41 7.96l-1.37-1.37c-.4-.4-.92-.59-1.43-.59-.52 0-1.04.2-1.43.59L10.3 9.45l-7.72 7.72c-.78.78-.78 2.05 0 2.83L4 21.41c.39.39.9.59 1.41.59.51 0 1.02-.2 1.41-.59l7.78-7.78 2.81-2.81c.8-.78.8-2.07 0-2.86zM5.41 20L4 18.59l7.72-7.72 1.47 1.35L5.41 20z\"/>\n",
              "  </svg>\n",
              "      </button>\n",
              "      \n",
              "  <style>\n",
              "    .colab-df-container {\n",
              "      display:flex;\n",
              "      flex-wrap:wrap;\n",
              "      gap: 12px;\n",
              "    }\n",
              "\n",
              "    .colab-df-convert {\n",
              "      background-color: #E8F0FE;\n",
              "      border: none;\n",
              "      border-radius: 50%;\n",
              "      cursor: pointer;\n",
              "      display: none;\n",
              "      fill: #1967D2;\n",
              "      height: 32px;\n",
              "      padding: 0 0 0 0;\n",
              "      width: 32px;\n",
              "    }\n",
              "\n",
              "    .colab-df-convert:hover {\n",
              "      background-color: #E2EBFA;\n",
              "      box-shadow: 0px 1px 2px rgba(60, 64, 67, 0.3), 0px 1px 3px 1px rgba(60, 64, 67, 0.15);\n",
              "      fill: #174EA6;\n",
              "    }\n",
              "\n",
              "    [theme=dark] .colab-df-convert {\n",
              "      background-color: #3B4455;\n",
              "      fill: #D2E3FC;\n",
              "    }\n",
              "\n",
              "    [theme=dark] .colab-df-convert:hover {\n",
              "      background-color: #434B5C;\n",
              "      box-shadow: 0px 1px 3px 1px rgba(0, 0, 0, 0.15);\n",
              "      filter: drop-shadow(0px 1px 2px rgba(0, 0, 0, 0.3));\n",
              "      fill: #FFFFFF;\n",
              "    }\n",
              "  </style>\n",
              "\n",
              "      <script>\n",
              "        const buttonEl =\n",
              "          document.querySelector('#df-5bdc1376-8d98-4926-9629-2ba17587124b button.colab-df-convert');\n",
              "        buttonEl.style.display =\n",
              "          google.colab.kernel.accessAllowed ? 'block' : 'none';\n",
              "\n",
              "        async function convertToInteractive(key) {\n",
              "          const element = document.querySelector('#df-5bdc1376-8d98-4926-9629-2ba17587124b');\n",
              "          const dataTable =\n",
              "            await google.colab.kernel.invokeFunction('convertToInteractive',\n",
              "                                                     [key], {});\n",
              "          if (!dataTable) return;\n",
              "\n",
              "          const docLinkHtml = 'Like what you see? Visit the ' +\n",
              "            '<a target=\"_blank\" href=https://colab.research.google.com/notebooks/data_table.ipynb>data table notebook</a>'\n",
              "            + ' to learn more about interactive tables.';\n",
              "          element.innerHTML = '';\n",
              "          dataTable['output_type'] = 'display_data';\n",
              "          await google.colab.output.renderOutput(dataTable, element);\n",
              "          const docLink = document.createElement('div');\n",
              "          docLink.innerHTML = docLinkHtml;\n",
              "          element.appendChild(docLink);\n",
              "        }\n",
              "      </script>\n",
              "    </div>\n",
              "  </div>\n",
              "  "
            ]
          },
          "metadata": {},
          "execution_count": 9
        }
      ]
    },
    {
      "cell_type": "code",
      "source": [
        "url = \"/content/ENB2012_data (1).xlsx\"\n",
        "\n",
        "df = pd.read_excel(url)\n",
        "df.sample(frac=1).reset_index(drop=True)\n",
        "train, test = train_test_split(df, test_size=0.2)\n",
        "train_stats = train.describe()\n",
        "\n",
        "train_stats.pop('Y1')\n",
        "train_stats.pop('Y2')\n",
        "train_stats = train_stats.transpose()\n",
        "\n",
        "train_Y = format_output(train) \n",
        "test_Y = format_output(test)\n",
        "\n",
        "normal_train_x = norm(train)\n",
        "normal_test_x = norm(test)"
      ],
      "metadata": {
        "id": "Q-d9U4OiaNHq"
      },
      "execution_count": 38,
      "outputs": []
    },
    {
      "cell_type": "code",
      "source": [
        "#models\n",
        "\n",
        "input = Input(shape=len((train.columns),))\n",
        "\n",
        "first_dense = Dense(128, activation=\"relu\")(input)\n",
        "second_dense = Dense(128, activation=\"relu\")(first_dense)\n",
        "\n",
        "y1_output = Dense(1, name=\"y1_output\")(second_dense)\n",
        "third_dense = Dense(64, activation=\"relu\")(second_dense)\n",
        "\n",
        "\n",
        "y2_output = Dense(1, name=\"y2_output\")(third_dense)\n",
        "\n",
        "\n",
        "model = Model(inputs = input, outputs = [y1_output, y2_output])\n",
        "\n",
        "print(model.summary())"
      ],
      "metadata": {
        "colab": {
          "base_uri": "https://localhost:8080/"
        },
        "id": "plAaMKUthynO",
        "outputId": "b800be53-09c6-4fe6-9934-b98e758b664a"
      },
      "execution_count": 39,
      "outputs": [
        {
          "output_type": "stream",
          "name": "stdout",
          "text": [
            "Model: \"model\"\n",
            "__________________________________________________________________________________________________\n",
            "Layer (type)                    Output Shape         Param #     Connected to                     \n",
            "==================================================================================================\n",
            "input_1 (InputLayer)            [(None, 8)]          0                                            \n",
            "__________________________________________________________________________________________________\n",
            "dense (Dense)                   (None, 128)          1152        input_1[0][0]                    \n",
            "__________________________________________________________________________________________________\n",
            "dense_1 (Dense)                 (None, 128)          16512       dense[0][0]                      \n",
            "__________________________________________________________________________________________________\n",
            "dense_2 (Dense)                 (None, 64)           8256        dense_1[0][0]                    \n",
            "__________________________________________________________________________________________________\n",
            "y1_output (Dense)               (None, 1)            129         dense_1[0][0]                    \n",
            "__________________________________________________________________________________________________\n",
            "y2_output (Dense)               (None, 1)            65          dense_2[0][0]                    \n",
            "==================================================================================================\n",
            "Total params: 26,114\n",
            "Trainable params: 26,114\n",
            "Non-trainable params: 0\n",
            "__________________________________________________________________________________________________\n",
            "None\n"
          ]
        }
      ]
    },
    {
      "cell_type": "code",
      "source": [
        "plot_model(model, show_shapes=True, show_layer_names=True, to_file=\"model.png\")"
      ],
      "metadata": {
        "colab": {
          "base_uri": "https://localhost:8080/",
          "height": 533
        },
        "id": "N2_EtdTWk4gO",
        "outputId": "8e1d7ce7-6e66-41e9-ff7c-15bc29074da8"
      },
      "execution_count": 40,
      "outputs": [
        {
          "output_type": "execute_result",
          "data": {
            "text/plain": [
              "<IPython.core.display.Image object>"
            ],
            "image/png": "[encoded data removed]"
          },
          "metadata": {},
          "execution_count": 40
        }
      ]
    },
    {
      "cell_type": "code",
      "source": [
        "\n",
        "optimizer = tf.keras.optimizers.SGD(lr=0.001)\n",
        "\n",
        "model.compile(\n",
        "    optimizer = optimizer,\n",
        "    loss = {\"y1_output\": \"mse\", \"y2_output\":\"mse\"},\n",
        "    metrics={\"y1_output\": tf.keras.metrics.RootMeanSquaredError(),\n",
        "             \"y2_output\": tf.keras.metrics.RootMeanSquaredError()}\n",
        "\n",
        ")"
      ],
      "metadata": {
        "id": "Vgrv48oRj97Z"
      },
      "execution_count": 42,
      "outputs": []
    },
    {
      "cell_type": "code",
      "source": [
        "history = model.fit(normal_train_x, train_Y, epochs=500, batch_size=10, validation_data=(normal_test_x, test_Y))"
      ],
      "metadata": {
        "id": "OvBr4Vm6lqXM"
      },
      "execution_count": null,
      "outputs": []
    },
    {
      "cell_type": "code",
      "source": [
        "loss, y1_output_loss, y2_output_loss, y1_output_rmse, y2_output_rmse=model.evaluate(x= normal_test_x, y=test_Y)"
      ],
      "metadata": {
        "colab": {
          "base_uri": "https://localhost:8080/"
        },
        "id": "CkcbHMXAnQJX",
        "outputId": "6917e834-4220-4b77-d957-427a79c0232d"
      },
      "execution_count": 45,
      "outputs": [
        {
          "output_type": "stream",
          "name": "stdout",
          "text": [
            "154/154 [==============================] - 0s 100us/sample - loss: 0.9367 - y1_output_loss: 0.2068 - y2_output_loss: 0.7392 - y1_output_root_mean_squared_error: 0.4562 - y2_output_root_mean_squared_error: 0.8536\n"
          ]
        }
      ]
    },
    {
      "cell_type": "code",
      "source": [
        "print(\"Loss = {}, Y1_loss = {}, Y1_mse = {}, Y2_loss = {}, Y2_mse = {}\".format(loss, y1_output_loss, y1_output_rmse, y2_output_loss, y2_output_rmse))"
      ],
      "metadata": {
        "colab": {
          "base_uri": "https://localhost:8080/"
        },
        "id": "H4-h57aUrD_F",
        "outputId": "85f18b76-41b8-4e16-9fb6-a32940f2e378"
      },
      "execution_count": 46,
      "outputs": [
        {
          "output_type": "stream",
          "name": "stdout",
          "text": [
            "Loss = 0.9367107787689606, Y1_loss = 0.20675703883171082, Y1_mse = 0.45619794726371765, Y2_loss = 0.7392049431800842, Y2_mse = 0.8535773158073425\n"
          ]
        }
      ]
    },
    {
      "cell_type": "code",
      "source": [
        "print(history.history[\"y1_output_root_mean_squared_error\"])\n",
        "print(history.history[\"val_y1_output_root_mean_squared_error\"])"
      ],
      "metadata": {
        "colab": {
          "base_uri": "https://localhost:8080/"
        },
        "id": "oG7ChqYFvz8X",
        "outputId": "f78dcf51-ac49-422f-a712-d14978110ed6"
      },
      "execution_count": 55,
      "outputs": [
        {
          "output_type": "stream",
          "name": "stdout",
          "text": [
            "[10.716686, 3.3524888, 3.1991577, 3.0323145, 2.9720979, 2.9335382, 2.9265273, 2.8114643, 2.8305306, 2.8059738, 2.8273652, 2.6554642, 2.6448665, 2.595102, 2.53202, 2.4934578, 2.4137387, 2.5472891, 2.4162822, 2.319371, 2.3745368, 2.2192113, 2.2199717, 2.2804365, 2.0763903, 2.0712252, 2.0898438, 2.2191772, 2.0518754, 1.9958965, 1.9435003, 1.8655334, 2.1334949, 1.7046126, 1.7792134, 1.6826296, 2.2708082, 1.6928334, 1.6492397, 1.5889369, 1.6879728, 1.5475051, 1.5144823, 1.5202016, 1.5667876, 1.4419901, 1.5236034, 1.5978903, 1.6404611, 1.5854369, 1.5359863, 1.4596142, 1.4687662, 1.4474005, 1.4765799, 1.4028325, 1.3314778, 1.320113, 1.3078017, 1.3079058, 1.230312, 1.3087215, 1.2457042, 1.3185074, 1.193763, 1.1978825, 1.2090386, 1.2621337, 1.0374882, 1.2424461, 1.0443296, 1.1263579, 1.8295668, 0.9251209, 0.99741477, 0.9781564, 0.967316, 0.8644682, 0.8774273, 0.9028626, 0.9857811, 0.8773363, 0.9462824, 1.060449, 0.86730295, 0.8587538, 0.9152441, 0.9518618, 1.238067, 0.84689313, 0.84414274, 0.8980729, 0.88092273, 0.791785, 0.82495546, 0.8370697, 0.78156054, 0.9363119, 0.8364807, 0.84917855, 0.80230033, 0.7807548, 0.7237571, 0.9889263, 0.7922964, 0.9183926, 0.78215957, 0.72147363, 0.8613659, 0.7495081, 0.7851548, 0.7895273, 1.2184843, 0.74247265, 0.8171714, 0.9526943, 0.7138865, 1.0857632, 0.8013649, 0.72983056, 0.782513, 0.6981594, 0.7510019, 0.69553757, 0.7903245, 0.69098544, 0.6726522, 0.6285301, 0.78141713, 0.78641194, 0.6811381, 0.7886528, 0.6733108, 0.6960361, 0.7336626, 0.6113402, 0.8139041, 0.6445153, 0.69274217, 0.65326494, 0.63587266, 0.6071439, 0.580661, 0.661599, 0.7097579, 0.63130695, 0.6569736, 0.674051, 0.5912238, 0.89241105, 0.63692456, 0.68717414, 0.6434872, 0.5615701, 0.65113765, 0.59200835, 0.6449164, 0.6600022, 0.5571578, 0.6798212, 0.6190607, 0.5872774, 0.553835, 0.5400039, 0.5821415, 0.54917866, 0.5895643, 0.7175972, 0.5647115, 0.5774469, 0.60039353, 0.58970696, 0.51128113, 0.6616251, 0.60532033, 0.5739448, 0.550392, 0.5762507, 0.50820696, 0.5329738, 0.6723635, 0.58042365, 0.53486454, 0.51236093, 0.56786186, 0.502856, 0.5182276, 0.5343471, 0.521016, 0.6058718, 0.52824825, 0.56117755, 0.5037967, 0.49991828, 0.4902047, 0.6049267, 0.47901592, 0.5745523, 0.5097035, 0.497603, 0.46324942, 0.5349033, 0.48502433, 0.549393, 0.4966934, 0.5531882, 0.50278133, 0.48828945, 0.5195628, 0.52499765, 0.52932227, 0.69574225, 0.49213916, 0.4841031, 0.5543927, 0.5306083, 0.5731757, 0.4784495, 0.56955975, 0.5164982, 0.46456558, 0.5629878, 0.56168294, 0.4997764, 0.53967494, 0.4715465, 0.5457805, 0.49511275, 0.46185413, 0.5623608, 0.5005632, 0.48940033, 0.47610313, 0.52300113, 0.4730953, 0.49342632, 0.4643567, 0.5013628, 0.46112046, 0.4677468, 0.4613456, 0.46737444, 0.5784063, 0.4689942, 0.51538205, 0.42826733, 0.5121885, 0.5433363, 0.44233936, 0.49817196, 0.44145468, 0.49789083, 0.5347337, 0.44823542, 0.42366645, 0.47029683, 0.4540034, 0.47999015, 0.45733753, 0.4851676, 0.4560785, 0.6772274, 0.5744182, 0.47952622, 0.45191038, 0.4661743, 0.49712476, 0.46316108, 0.5713055, 0.43912548, 0.43025324, 0.4520899, 0.41589737, 0.41278026, 0.41715392, 0.4368106, 0.4686309, 0.4617701, 0.48231632, 0.5337726, 0.46906188, 0.43815872, 0.5939108, 0.4242934, 0.4636884, 0.617419, 0.40291578, 0.44427678, 0.46743062, 0.3996055, 0.41437355, 0.4527629, 0.43176317, 0.4318621, 0.42138365, 0.4369951, 0.41538775, 0.38921082, 0.47274753, 0.4324189, 0.46449152, 0.43558484, 0.39938098, 0.48276296, 0.4650296, 0.5222415, 0.40227246, 0.40379578, 0.43136367, 0.40141582, 0.42255855, 0.37484407, 0.41422054, 0.39479285, 0.486334, 0.47781345, 0.43910474, 0.4126793, 0.45776746, 0.5085422, 0.4236759, 0.49919942, 0.40323722, 0.4269034, 0.51016736, 0.44646016, 0.39113697, 0.39950383, 0.39662522, 0.56594115, 0.44104242, 0.4100001, 0.39798498, 0.40158978, 0.40309286, 0.43294957, 0.38594043, 0.43751094, 0.38614225, 0.4095977, 0.42697173, 0.4090511, 0.44720903, 0.41650242, 0.44334313, 0.42046088, 0.43432814, 0.3794631, 0.3989972, 0.51811415, 0.4461794, 0.43560374, 0.4546457, 0.41479197, 0.39687055, 0.49180835, 0.4651301, 0.5357627, 0.4369603, 0.39629436, 0.39628467, 0.45041242, 0.42227596, 0.38147724, 0.42633528, 0.38986287, 0.38234705, 0.4127546, 0.41063386, 0.36923468, 0.39236912, 0.42003915, 0.3885297, 0.36927631, 0.40178022, 0.4177039, 0.37615606, 0.36982012, 0.37597102, 0.4891355, 0.46699873, 0.38298628, 0.3725698, 0.3779067, 0.37700185, 0.37678397, 0.38194567, 0.40293416, 0.42812654, 0.4297586, 0.35156852, 0.39670223, 0.3619024, 0.41762304, 0.3571048, 0.39894718, 0.3874079, 0.37281126, 0.3868599, 0.40183365, 0.44249475, 0.35426202, 0.38573593, 0.36477497, 0.384797, 0.3913891, 0.3805064, 0.38766935, 0.3940615, 0.3599031, 0.3662491, 0.381683, 0.39248076, 0.47475773, 0.5318415, 0.37629926, 0.38382143, 0.3851201, 0.38727888, 0.34871346, 0.51051897, 0.44252247, 0.4014137, 0.36740923, 0.35241514, 0.35340953, 0.3901619, 0.3923889, 0.34868288, 0.34930038, 0.35239008, 0.35724422, 0.36213583, 0.41203094, 0.38216615, 0.3406396, 0.35272115, 0.37282556, 0.3590419, 0.38362303, 0.4076296, 0.37077802, 0.34259248, 0.36426073, 0.36782023, 0.36092213, 0.40388194, 0.3886964, 0.35309848, 0.42359018, 0.43068454, 0.41384563, 0.39978424, 0.35396788, 0.47812158, 0.34679583, 0.37465402, 0.37073046, 0.34436277, 0.36745685, 0.40542006, 0.3475553, 0.35080135, 0.33731532, 0.38606557, 0.3578441, 0.36580282, 0.35534403, 0.36760285, 0.3679343, 0.37205243, 0.3383281, 0.36922622, 0.3531705, 0.4546521, 0.36315295, 0.37243918, 0.35731137, 0.32854033, 0.34782678, 0.41068137, 0.36446032, 0.36626655, 0.34441227, 0.36405143, 0.34567836, 0.35418528, 0.35328075, 0.37687525, 0.34840602, 0.3383175, 0.35225815, 0.34700766, 0.35811153, 0.37050357, 0.33733544, 0.3851124, 0.34077, 0.44394997, 0.3732524]\n",
            "[4.125013, 3.3957725, 3.416702, 3.541032, 3.1013691, 2.9865267, 3.0807333, 2.8506591, 2.545174, 2.6578379, 2.5634425, 2.574914, 3.108935, 2.4519694, 2.364205, 2.2646966, 2.3687572, 2.345191, 2.6646738, 2.070556, 2.9558988, 3.6425188, 1.8363377, 2.0058908, 1.8476579, 1.886124, 1.8639835, 1.6606363, 1.8411199, 2.1903958, 2.0093937, 4.6304083, 1.5049174, 1.8924271, 1.584403, 1.6689962, 2.3026958, 1.4040147, 1.5845778, 1.8959261, 1.5383716, 1.7432139, 1.6378613, 1.3962163, 1.3211492, 1.3148516, 1.750947, 1.4367509, 1.6819348, 1.8630534, 1.4394165, 1.228255, 1.9525884, 1.5073761, 1.359719, 1.5582094, 2.0746987, 1.544126, 1.2263952, 1.3473781, 1.1620988, 1.0882763, 1.0426881, 1.1174843, 1.6656419, 1.4829875, 1.4915402, 0.9688922, 1.0877492, 0.9379422, 1.2750359, 5.5467496, 0.93633586, 0.8699749, 1.3935446, 1.1428149, 1.1817118, 0.9367801, 0.88892376, 1.5217329, 0.80190647, 1.2071058, 1.4185821, 0.94612706, 0.8037335, 0.81459826, 1.1937709, 0.86058193, 1.0891659, 1.4663886, 1.1930165, 0.77103275, 0.8967638, 0.9733153, 1.4450328, 1.0997595, 2.7663147, 2.2304466, 1.2486047, 0.7198361, 0.87011385, 0.82923007, 0.74431837, 0.8254832, 0.9040738, 1.205336, 0.7786807, 0.7224403, 0.8027875, 0.75337297, 1.105449, 0.9725252, 0.6590233, 0.6714084, 0.907481, 0.69480085, 0.69156575, 0.6409144, 0.6504961, 0.73190045, 0.9356346, 0.7087751, 0.6888064, 0.70522404, 0.9865587, 0.85778457, 0.60309964, 0.65050197, 0.8257033, 1.0732039, 0.66992074, 0.67486465, 0.6121289, 0.642019, 0.6180867, 0.6543274, 0.99626774, 0.5763129, 0.57348424, 1.0272622, 1.0660346, 0.58992356, 0.5559605, 0.56374055, 1.422862, 0.6887838, 0.9383955, 0.5527546, 0.5222732, 1.2088171, 1.508607, 0.5746482, 0.6722904, 1.560534, 0.8411152, 0.7307181, 0.6340989, 0.6031723, 0.8018224, 0.8669605, 0.7875948, 0.6480586, 0.72872573, 0.49955794, 0.8114606, 0.5678753, 0.57778466, 0.75634503, 0.57058114, 0.63762826, 0.56009674, 0.504874, 0.5280002, 1.130304, 0.7404958, 0.50073147, 0.89114463, 0.49398893, 0.47796577, 0.5334975, 0.85253453, 0.517321, 0.4613338, 0.5068412, 0.6413297, 0.55365795, 0.66968185, 0.71814287, 0.64758223, 0.5705594, 0.4467972, 0.5314846, 0.6080143, 0.65858847, 0.6598922, 0.6981565, 0.78687763, 0.59800273, 0.53950465, 0.4695881, 1.1419653, 0.6782629, 0.47498408, 0.54848963, 0.6478128, 0.81546843, 0.6032485, 0.55394787, 0.5008393, 0.91708976, 0.55452454, 0.5153503, 0.5106578, 0.6023952, 0.6411196, 0.71674144, 0.5016133, 0.5220109, 0.47912458, 0.46986613, 0.50014716, 1.5686922, 0.780986, 0.5010134, 0.44600576, 0.5669358, 0.7822978, 0.62064713, 0.5346114, 0.46839765, 1.1134925, 0.6327289, 0.8802099, 0.6416044, 0.46043405, 0.64262146, 0.47103012, 0.67190486, 0.50922257, 0.556681, 0.45207047, 0.4547595, 0.5281345, 0.5015551, 0.46420833, 0.50024945, 0.7910973, 0.45052996, 0.81937444, 0.47786063, 0.504293, 0.4695342, 0.520042, 0.4560304, 0.4772775, 0.5356392, 0.48220944, 0.5287445, 0.52189714, 0.57108057, 0.7118129, 0.61587685, 0.59513396, 0.7795392, 0.46386415, 0.43085903, 0.5989554, 0.76466435, 0.45490208, 0.44595638, 0.5161963, 0.50339025, 0.58328, 0.53848106, 0.45098644, 0.4467394, 0.7421995, 1.0937907, 0.4585785, 0.47912997, 0.621457, 0.8469253, 0.49322805, 0.55321014, 2.0797067, 0.43379828, 0.45717865, 0.777536, 0.43955377, 0.44164923, 0.47213173, 0.4517171, 0.5833681, 0.4316273, 0.42790502, 0.42306754, 0.4564863, 0.44539794, 0.50952196, 0.46849936, 0.8893352, 0.50005686, 0.5619362, 0.73162687, 0.6420035, 0.4612115, 0.41839007, 0.44413263, 0.4880891, 0.43300435, 0.51441735, 0.42953604, 0.4088875, 0.7729876, 0.72824526, 0.51959205, 0.5398099, 1.0157392, 0.4260262, 0.5124471, 0.92256945, 0.45334288, 0.59033835, 0.46044025, 0.6803541, 0.5446747, 0.41837955, 0.4571252, 0.81252617, 0.61510915, 0.5175903, 0.4393934, 0.59714943, 0.44906852, 0.48085645, 0.41936916, 0.5298453, 0.4153232, 0.5056288, 0.53748286, 0.42542288, 0.48378387, 0.53045547, 0.70892197, 0.46918222, 0.48925978, 0.44242346, 0.42200127, 0.42597654, 0.5036545, 0.4304508, 0.65593463, 0.6444451, 0.49298662, 1.6941799, 0.5324843, 0.5039973, 0.62253904, 0.5335234, 0.6496893, 0.7149873, 0.5016267, 0.43455532, 0.41623524, 0.43884587, 0.4602203, 0.53364277, 0.47652417, 0.52323043, 0.4809996, 0.43015954, 0.47922525, 0.57807046, 0.6507657, 0.68083435, 0.6355562, 0.4459164, 0.40314093, 0.8766246, 1.6485444, 0.47676483, 0.46181688, 0.5737472, 0.40642896, 0.46652472, 0.50900346, 0.4274739, 0.49370375, 0.5623433, 0.4698089, 0.47938022, 0.5416689, 0.74526125, 0.43084145, 0.5020815, 0.5467163, 0.5523424, 0.56012607, 0.4385411, 0.43059713, 0.49903652, 0.4373129, 0.506774, 0.43898925, 0.4113571, 0.47745392, 0.4364233, 0.5199504, 0.47949842, 0.40226233, 0.41941443, 1.1743025, 0.48062265, 1.2541864, 0.4171995, 0.44710228, 0.42962137, 0.43703854, 0.43931603, 0.5991027, 0.56618667, 0.60438263, 0.43230724, 0.61008674, 0.4591537, 0.4245738, 0.50020015, 0.40608338, 0.48182672, 0.4409067, 0.44600758, 0.4404182, 0.42298174, 0.42990595, 0.48488447, 0.40044463, 0.45844087, 0.4766168, 0.48010924, 0.53988, 0.51037383, 0.41471428, 0.4706478, 0.47349328, 0.4013851, 1.0263222, 0.56340986, 0.44196507, 0.48736537, 1.6150535, 0.42354077, 0.61210996, 0.59535974, 0.5347033, 0.41678756, 0.4018626, 0.447172, 0.5017338, 0.53219634, 0.4158442, 0.42057317, 0.42497012, 0.44143763, 0.7182441, 0.41493908, 0.6620938, 0.47314277, 0.4276021, 0.41225567, 0.48241588, 0.42252827, 0.48656893, 0.5610015, 0.82901645, 0.65295684, 0.42589054, 0.5123451, 0.45772976, 0.4825563, 0.414648, 0.7687088, 0.46171936, 0.45810506, 0.43194753, 0.41041547, 0.41551927, 0.4527369, 0.47413775, 0.431003, 0.4465882, 0.42024615, 0.54033875, 0.44115114, 0.7736086, 0.45519584, 0.4140781, 0.51016223, 0.49936953, 0.5309708, 0.45619798]\n"
          ]
        }
      ]
    },
    {
      "cell_type": "code",
      "source": [
        "Y_pred = model.predict(normal_test_x)\n",
        "\n",
        "plot_diff(test_Y[0], Y_pred[0], title=\"Y1\") \n",
        "plot_diff(test_Y[1], Y_pred[1], title=\"Y2\") \n",
        "\n",
        "plot_matrics(\"y1_output_root_mean_squared_error\", title=\"y1_output_rmse\", ylim=6)\n"
      ],
      "metadata": {
        "colab": {
          "base_uri": "https://localhost:8080/",
          "height": 837
        },
        "id": "dFUFkteNrQqM",
        "outputId": "c485e983-5c3d-4baf-a2ff-84562cda9195"
      },
      "execution_count": 52,
      "outputs": [
        {
          "output_type": "display_data",
          "data": {
            "text/plain": [
              "<Figure size 432x288 with 1 Axes>"
            ],
            "image/png": "[encoded data removed]"
          },
          "metadata": {
            "needs_background": "light"
          }
        },
        {
          "output_type": "display_data",
          "data": {
            "text/plain": [
              "<Figure size 432x288 with 1 Axes>"
            ],
            "image/png": "[encoded data removed]"
          },
          "metadata": {
            "needs_background": "light"
          }
        },
        {
          "output_type": "display_data",
          "data": {
            "text/plain": [
              "<Figure size 432x288 with 1 Axes>"
            ],
            "image/png": "[encoded data removed]"
          },
          "metadata": {
            "needs_background": "light"
          }
        }
      ]
    },
    {
      "cell_type": "code",
      "source": [
        "plot_matrics(\"y2_output_root_mean_squared_error\", title=\"y2_output_rmse\", ylim=7)"
      ],
      "metadata": {
        "colab": {
          "base_uri": "https://localhost:8080/",
          "height": 281
        },
        "id": "Xl-fKsDGvd8J",
        "outputId": "dbd5c8d2-0e31-4b2e-8714-dfb083089466"
      },
      "execution_count": 53,
      "outputs": [
        {
          "output_type": "display_data",
          "data": {
            "text/plain": [
              "<Figure size 432x288 with 1 Axes>"
            ],
            "image/png": "[encoded data removed]"
          },
          "metadata": {
            "needs_background": "light"
          }
        }
      ]
    }
  ]
}