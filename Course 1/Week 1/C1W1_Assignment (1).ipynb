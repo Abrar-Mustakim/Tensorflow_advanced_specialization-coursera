{
 "cells": [
  {
   "cell_type": "markdown",
   "metadata": {
    "colab_type": "text",
    "id": "ZL_6GK8qX35J"
   },
   "source": [
    "\n",
    "\n",
    "# Week 1: Multiple Output Models using the Keras Functional API\n",
    "\n",
    "Welcome to the first programming assignment of the course! Your task will be to use the Keras functional API to train a model to predict two outputs. For this lab, you will use the **[Wine Quality Dataset](https://archive.ics.uci.edu/ml/datasets/Wine+Quality)** from the **UCI machine learning repository**. It has separate datasets for red wine and white wine.\n",
    "\n",
    "Normally, the wines are classified into one of the quality ratings specified in the attributes. In this exercise, you will combine the two datasets to predict the wine quality and whether the wine is red or white solely from the attributes. \n",
    "\n",
    "You will model wine quality estimations as a regression problem and wine type detection as a binary classification problem.\n",
    "\n",
    "#### Please complete sections that are marked **(TODO)**"
   ]
  },
  {
   "cell_type": "markdown",
   "metadata": {
    "colab_type": "text",
    "id": "obdcD6urYBY9"
   },
   "source": [
    "## Imports"
   ]
  },
  {
   "cell_type": "code",
   "execution_count": null,
   "metadata": {
    "colab": {},
    "colab_type": "code",
    "id": "t8N3pcTQ5oQI"
   },
   "outputs": [],
   "source": [
    "import tensorflow as tf\n",
    "from tensorflow.keras.models import Model\n",
    "from tensorflow.keras.layers import Dense, Input\n",
    "\n",
    "import numpy as np\n",
    "import matplotlib.pyplot as plt\n",
    "import pandas as pd\n",
    "from sklearn.model_selection import train_test_split\n",
    "from sklearn.metrics import confusion_matrix\n",
    "import itertools\n",
    "\n",
    "import utils"
   ]
  },
  {
   "cell_type": "markdown",
   "metadata": {
    "colab_type": "text",
    "id": "gQMERzWQYpgm"
   },
   "source": [
    "## Load Dataset\n",
    "\n",
    "\n",
    "You will now load the dataset from the [UCI Machine Learning Repository](https://archive.ics.uci.edu/ml/index.php) which are already saved in your workspace.\n",
    "\n",
    "### Pre-process the white wine dataset (TODO)\n",
    "You will add a new column named `is_red` in your dataframe to indicate if the wine is white or red. \n",
    "- In the white wine dataset, you will fill the column `is_red` with  zeros (0)."
   ]
  },
  {
   "cell_type": "code",
   "execution_count": 4,
   "metadata": {
    "colab": {},
    "colab_type": "code",
    "deletable": false,
    "id": "2qYAjKXCd4RH",
    "nbgrader": {
     "cell_type": "code",
     "checksum": "325ea195519b7035934c95bb529a062c",
     "grade": false,
     "grade_id": "cell-e5bfa0f152d9a21f",
     "locked": false,
     "schema_version": 3,
     "solution": true,
     "task": false
    }
   },
   "outputs": [],
   "source": [
    "## Please uncomment all lines in this cell and replace those marked with `# YOUR CODE HERE`.\n",
    "## You can select all lines in this code cell with Ctrl+A (Windows/Linux) or Cmd+A (Mac), then press Ctrl+/ (Windows/Linux) or Cmd+/ (Mac) to uncomment.\n",
    "\n",
    "\n",
    "\n",
    "# # URL of the white wine dataset\n",
    "URI = './winequality-white.csv'\n",
    "\n",
    "# # load the dataset from the URL\n",
    "white_df = pd.read_csv(URI, sep=\";\")\n",
    "\n",
    "# # fill the `is_red` column with zeros.\n",
    "white_df[\"is_red\"] = 0# YOUR CODE HERE\n",
    "\n",
    "# # keep only the first of duplicate items\n",
    "white_df = white_df.drop_duplicates(keep='first')\n"
   ]
  },
  {
   "cell_type": "code",
   "execution_count": 5,
   "metadata": {
    "deletable": false,
    "editable": false,
    "nbgrader": {
     "cell_type": "code",
     "checksum": "defe38d6ec58fd31cd67b89e46c4373f",
     "grade": true,
     "grade_id": "cell-30575e713b55fc51",
     "locked": true,
     "points": 1,
     "schema_version": 3,
     "solution": false,
     "task": false
    }
   },
   "outputs": [
    {
     "name": "stdout",
     "output_type": "stream",
     "text": [
      "\u001b[92m All public tests passed\n"
     ]
    }
   ],
   "source": [
    "# You can click `File -> Open` in the menu above and open the `utils.py` file \n",
    "# in case you want to inspect the unit tests being used for each graded function.\n",
    "\n",
    "utils.test_white_df(white_df)\n"
   ]
  },
  {
   "cell_type": "code",
   "execution_count": 6,
   "metadata": {
    "colab": {},
    "colab_type": "code",
    "id": "OQHK0ohBQRCk"
   },
   "outputs": [
    {
     "name": "stdout",
     "output_type": "stream",
     "text": [
      "8.8\n",
      "9.1\n"
     ]
    }
   ],
   "source": [
    "print(white_df.alcohol[0])\n",
    "print(white_df.alcohol[100])\n",
    "\n",
    "# EXPECTED OUTPUT\n",
    "# 8.8\n",
    "# 9.1"
   ]
  },
  {
   "cell_type": "markdown",
   "metadata": {},
   "source": [
    "### Pre-process the red wine dataset (TODO)\n",
    "- In the red wine dataset, you will fill in the column `is_red` with ones (1)."
   ]
  },
  {
   "cell_type": "code",
   "execution_count": 9,
   "metadata": {
    "colab": {},
    "colab_type": "code",
    "deletable": false,
    "id": "8y3QxKwBed8v",
    "nbgrader": {
     "cell_type": "code",
     "checksum": "12e0963d15be33b01b4e6ebc8945e51e",
     "grade": false,
     "grade_id": "cell-e47a40f306593274",
     "locked": false,
     "schema_version": 3,
     "solution": true,
     "task": false
    }
   },
   "outputs": [],
   "source": [
    "## Please uncomment all lines in this cell and replace those marked with `# YOUR CODE HERE`.\n",
    "## You can select all lines in this code cell with Ctrl+A (Windows/Linux) or Cmd+A (Mac), then press Ctrl+/ (Windows/Linux) or Cmd+/ (Mac) to uncomment.\n",
    "\n",
    "\n",
    "\n",
    "# # URL of the red wine dataset\n",
    "URI = './winequality-red.csv'\n",
    "\n",
    "# # load the dataset from the URL\n",
    "red_df = pd.read_csv(URI, sep=\";\")\n",
    "\n",
    "# # fill the `is_red` column with ones.\n",
    "red_df[\"is_red\"] = 1 # YOUR CODE HERE\n",
    "\n",
    "# # keep only the first of duplicate items\n",
    "red_df = red_df.drop_duplicates(keep='first')\n"
   ]
  },
  {
   "cell_type": "code",
   "execution_count": 10,
   "metadata": {
    "deletable": false,
    "editable": false,
    "nbgrader": {
     "cell_type": "code",
     "checksum": "d8e0c91b0fd668b63ba74a8f2f958b59",
     "grade": true,
     "grade_id": "cell-2a75937adcc0c25b",
     "locked": true,
     "points": 1,
     "schema_version": 3,
     "solution": false,
     "task": false
    }
   },
   "outputs": [
    {
     "name": "stdout",
     "output_type": "stream",
     "text": [
      "\u001b[92m All public tests passed\n"
     ]
    }
   ],
   "source": [
    "utils.test_red_df(red_df)\n"
   ]
  },
  {
   "cell_type": "code",
   "execution_count": 11,
   "metadata": {
    "colab": {},
    "colab_type": "code",
    "id": "zsB3LUzNQpo_"
   },
   "outputs": [
    {
     "name": "stdout",
     "output_type": "stream",
     "text": [
      "9.4\n",
      "10.2\n"
     ]
    }
   ],
   "source": [
    "print(red_df.alcohol[0])\n",
    "print(red_df.alcohol[100])\n",
    "\n",
    "# EXPECTED OUTPUT\n",
    "# 9.4\n",
    "# 10.2"
   ]
  },
  {
   "cell_type": "markdown",
   "metadata": {
    "colab_type": "text",
    "id": "2G8B-NYuM6-f"
   },
   "source": [
    "### Concatenate the datasets\n",
    "\n",
    "Next, concatenate the red and white wine dataframes."
   ]
  },
  {
   "cell_type": "code",
   "execution_count": 12,
   "metadata": {
    "colab": {},
    "colab_type": "code",
    "id": "YpQrOjJbfN3m"
   },
   "outputs": [],
   "source": [
    "df = pd.concat([red_df, white_df], ignore_index=True)"
   ]
  },
  {
   "cell_type": "code",
   "execution_count": 13,
   "metadata": {
    "colab": {},
    "colab_type": "code",
    "id": "Se2dTmThQyjb"
   },
   "outputs": [
    {
     "name": "stdout",
     "output_type": "stream",
     "text": [
      "9.4\n",
      "9.5\n"
     ]
    }
   ],
   "source": [
    "print(df.alcohol[0])\n",
    "print(df.alcohol[100])\n",
    "\n",
    "# EXPECTED OUTPUT\n",
    "# 9.4\n",
    "# 9.5"
   ]
  },
  {
   "cell_type": "markdown",
   "metadata": {},
   "source": [
    "In a real-world scenario, you should shuffle the data. For this assignment however, **you are not** going to do that because the grader needs to test with deterministic data. If you want the code to do it **after** you've gotten your grade for this notebook, we left the commented line below for reference"
   ]
  },
  {
   "cell_type": "code",
   "execution_count": 14,
   "metadata": {
    "colab": {},
    "colab_type": "code",
    "id": "wx6y3rPpQv4k"
   },
   "outputs": [],
   "source": [
    "df = df.iloc[np.random.permutation(len(df))]"
   ]
  },
  {
   "cell_type": "markdown",
   "metadata": {
    "colab_type": "text",
    "id": "-EqIcbg5M_n1"
   },
   "source": [
    "This will chart the quality of the wines."
   ]
  },
  {
   "cell_type": "code",
   "execution_count": 15,
   "metadata": {
    "colab": {},
    "colab_type": "code",
    "id": "IsvK0-Sgy17C"
   },
   "outputs": [
    {
     "data": {
      "image/png": "[encoded data removed]",
      "text/plain": [
       "<Figure size 432x288 with 1 Axes>"
      ]
     },
     "metadata": {
      "needs_background": "light"
     },
     "output_type": "display_data"
    }
   ],
   "source": [
    "df['quality'].hist(bins=20);"
   ]
  },
  {
   "cell_type": "markdown",
   "metadata": {
    "colab_type": "text",
    "id": "Nut1rmYLzf-p"
   },
   "source": [
    "### Imbalanced data (TODO)\n",
    "You can see from the plot above that the wine quality dataset is imbalanced. \n",
    "- Since there are very few observations with quality equal to 3, 4, 8 and 9, you can drop these observations from your dataset. \n",
    "- You can do this by removing data belonging to all classes except those > 4 and < 8."
   ]
  },
  {
   "cell_type": "code",
   "execution_count": 65,
   "metadata": {
    "colab": {},
    "colab_type": "code",
    "deletable": false,
    "id": "doH9_-gnf3sz",
    "nbgrader": {
     "cell_type": "code",
     "checksum": "d9ba9fc3a3ca02ccc567be33652b80fe",
     "grade": false,
     "grade_id": "cell-6a3e9db696f6827b",
     "locked": false,
     "schema_version": 3,
     "solution": true,
     "task": false
    }
   },
   "outputs": [],
   "source": [
    "## Please uncomment all lines in this cell and replace those marked with `# YOUR CODE HERE`.\n",
    "## You can select all lines in this code cell with Ctrl+A (Windows/Linux) or Cmd+A (Mac), then press Ctrl+/ (Windows/Linux) or Cmd+/ (Mac) to uncomment.\n",
    "\n",
    "\n",
    "\n",
    "# # get data with wine quality greater than 4 and less than 8\n",
    "df = df[(df['quality'] > 4) & (df['quality'] < 8)]\n",
    "\n",
    "# # reset index and drop the old one\n",
    "df = df.reset_index(drop=True)"
   ]
  },
  {
   "cell_type": "code",
   "execution_count": 66,
   "metadata": {
    "deletable": false,
    "editable": false,
    "nbgrader": {
     "cell_type": "code",
     "checksum": "281e1d86a4803560ed5892cd7eda4c01",
     "grade": true,
     "grade_id": "cell-aed3da719d4682c7",
     "locked": true,
     "points": 1,
     "schema_version": 3,
     "solution": false,
     "task": false
    }
   },
   "outputs": [
    {
     "name": "stdout",
     "output_type": "stream",
     "text": [
      "df.alcohol[100]_check: Value is not as expected. Please check quality interval.\n",
      "Expected: 10.9\n",
      "Result: 8.7\n",
      "Please open utils.py if you want to see the unit test here.\n",
      "\n",
      "\u001b[92m 1  Tests passed\n",
      "\u001b[91m 1  Tests failed\n"
     ]
    },
    {
     "ename": "Exception",
     "evalue": "Please check the error messages above.",
     "output_type": "error",
     "traceback": [
      "\u001b[0;31m---------------------------------------------------------------------------\u001b[0m",
      "\u001b[0;31mException\u001b[0m                                 Traceback (most recent call last)",
      "\u001b[0;32m<ipython-input-66-02ac41180da9>\u001b[0m in \u001b[0;36m<module>\u001b[0;34m\u001b[0m\n\u001b[0;32m----> 1\u001b[0;31m \u001b[0mutils\u001b[0m\u001b[0;34m.\u001b[0m\u001b[0mtest_df_drop\u001b[0m\u001b[0;34m(\u001b[0m\u001b[0mdf\u001b[0m\u001b[0;34m)\u001b[0m\u001b[0;34m\u001b[0m\u001b[0;34m\u001b[0m\u001b[0m\n\u001b[0m\u001b[1;32m      2\u001b[0m \u001b[0;34m\u001b[0m\u001b[0m\n",
      "\u001b[0;32m~/work/release/W1_Assignment/utils.py\u001b[0m in \u001b[0;36mtest_df_drop\u001b[0;34m(df)\u001b[0m\n\u001b[1;32m     94\u001b[0m     ]\n\u001b[1;32m     95\u001b[0m \u001b[0;34m\u001b[0m\u001b[0m\n\u001b[0;32m---> 96\u001b[0;31m     \u001b[0mtest_loop\u001b[0m\u001b[0;34m(\u001b[0m\u001b[0mtest_cases\u001b[0m\u001b[0;34m)\u001b[0m\u001b[0;34m\u001b[0m\u001b[0;34m\u001b[0m\u001b[0m\n\u001b[0m\u001b[1;32m     97\u001b[0m \u001b[0;34m\u001b[0m\u001b[0m\n\u001b[1;32m     98\u001b[0m \u001b[0;32mdef\u001b[0m \u001b[0mtest_data_sizes\u001b[0m\u001b[0;34m(\u001b[0m\u001b[0mtrain_size\u001b[0m\u001b[0;34m,\u001b[0m \u001b[0mtest_size\u001b[0m\u001b[0;34m,\u001b[0m \u001b[0mval_size\u001b[0m\u001b[0;34m)\u001b[0m\u001b[0;34m:\u001b[0m\u001b[0;34m\u001b[0m\u001b[0;34m\u001b[0m\u001b[0m\n",
      "\u001b[0;32m~/work/release/W1_Assignment/utils.py\u001b[0m in \u001b[0;36mtest_loop\u001b[0;34m(test_cases)\u001b[0m\n\u001b[1;32m     25\u001b[0m         \u001b[0mprint\u001b[0m\u001b[0;34m(\u001b[0m\u001b[0;34m'\\033[92m'\u001b[0m\u001b[0;34m,\u001b[0m \u001b[0msuccess\u001b[0m\u001b[0;34m,\u001b[0m\u001b[0;34m\" Tests passed\"\u001b[0m\u001b[0;34m)\u001b[0m\u001b[0;34m\u001b[0m\u001b[0;34m\u001b[0m\u001b[0m\n\u001b[1;32m     26\u001b[0m         \u001b[0mprint\u001b[0m\u001b[0;34m(\u001b[0m\u001b[0;34m'\\033[91m'\u001b[0m\u001b[0;34m,\u001b[0m \u001b[0mfails\u001b[0m\u001b[0;34m,\u001b[0m \u001b[0;34m\" Tests failed\"\u001b[0m\u001b[0;34m)\u001b[0m\u001b[0;34m\u001b[0m\u001b[0;34m\u001b[0m\u001b[0m\n\u001b[0;32m---> 27\u001b[0;31m         \u001b[0;32mraise\u001b[0m \u001b[0mException\u001b[0m\u001b[0;34m(\u001b[0m\u001b[0;34m\"Please check the error messages above.\"\u001b[0m\u001b[0;34m)\u001b[0m\u001b[0;34m\u001b[0m\u001b[0;34m\u001b[0m\u001b[0m\n\u001b[0m\u001b[1;32m     28\u001b[0m \u001b[0;34m\u001b[0m\u001b[0m\n\u001b[1;32m     29\u001b[0m \u001b[0;32mdef\u001b[0m \u001b[0mtest_white_df\u001b[0m\u001b[0;34m(\u001b[0m\u001b[0mwhite_df\u001b[0m\u001b[0;34m)\u001b[0m\u001b[0;34m:\u001b[0m\u001b[0;34m\u001b[0m\u001b[0;34m\u001b[0m\u001b[0m\n",
      "\u001b[0;31mException\u001b[0m: Please check the error messages above."
     ]
    }
   ],
   "source": [
    "utils.test_df_drop(df)\n",
    "\n"
   ]
  },
  {
   "cell_type": "code",
   "execution_count": 24,
   "metadata": {
    "colab": {},
    "colab_type": "code",
    "id": "xNR1iAlMRPXO"
   },
   "outputs": [
    {
     "name": "stdout",
     "output_type": "stream",
     "text": [
      "9.4\n",
      "8.7\n"
     ]
    }
   ],
   "source": [
    "print(df.alcohol[0])\n",
    "print(df.alcohol[100])\n",
    "\n",
    "# EXPECTED OUTPUT\n",
    "# 9.4\n",
    "# 10.9"
   ]
  },
  {
   "cell_type": "markdown",
   "metadata": {
    "colab_type": "text",
    "id": "cwhuRpnVRTzG"
   },
   "source": [
    "You can plot again to see the new range of data and quality"
   ]
  },
  {
   "cell_type": "code",
   "execution_count": 25,
   "metadata": {
    "colab": {},
    "colab_type": "code",
    "id": "857ygzZiLgGg"
   },
   "outputs": [
    {
     "data": {
      "image/png": "[encoded data removed]",
      "text/plain": [
       "<Figure size 432x288 with 1 Axes>"
      ]
     },
     "metadata": {
      "needs_background": "light"
     },
     "output_type": "display_data"
    }
   ],
   "source": [
    "df['quality'].hist(bins=20);"
   ]
  },
  {
   "cell_type": "markdown",
   "metadata": {
    "colab_type": "text",
    "id": "n3k0vqSsp84t"
   },
   "source": [
    "### Train Test Split (TODO)\n",
    "\n",
    "Next, you can split the datasets into training, test and validation datasets.\n",
    "- The data frame should be split 80:20 into `train` and `test` sets.\n",
    "- The resulting `train` should then be split 80:20 into `train` and `val` sets.\n",
    "- The `train_test_split` parameter `test_size` takes a float value that ranges between 0. and 1, and represents the proportion of the dataset that is allocated to the test set.  The rest of the data is allocated to the training set."
   ]
  },
  {
   "cell_type": "code",
   "execution_count": 26,
   "metadata": {
    "colab": {},
    "colab_type": "code",
    "deletable": false,
    "id": "PAVIf2-fgRVY",
    "nbgrader": {
     "cell_type": "code",
     "checksum": "7f5738f4fb51d65adc9a8acbdf2b9970",
     "grade": false,
     "grade_id": "cell-91946cadf745206b",
     "locked": false,
     "schema_version": 3,
     "solution": true,
     "task": false
    }
   },
   "outputs": [],
   "source": [
    "## Please uncomment all lines in this cell and replace those marked with `# YOUR CODE HERE`.\n",
    "## You can select all lines in this code cell with Ctrl+A (Windows/Linux) or Cmd+A (Mac), then press Ctrl+/ (Windows/Linux) or Cmd+/ (Mac) to uncomment.\n",
    "\n",
    "\n",
    "\n",
    "## Please do not change the random_state parameter. This is needed for grading.\n",
    "\n",
    "# # split df into 80:20 train and test sets\n",
    "train, test = train_test_split(df, test_size=0.2, random_state = 1)\n",
    "                               \n",
    "# # split train into 80:20 train and val sets\n",
    "train, val = train_test_split(train, test_size=0.2, random_state = 1)"
   ]
  },
  {
   "cell_type": "code",
   "execution_count": 27,
   "metadata": {
    "colab": {},
    "colab_type": "code",
    "deletable": false,
    "editable": false,
    "id": "57h9LcEzRWpk",
    "nbgrader": {
     "cell_type": "code",
     "checksum": "42adbe9e66efac7c7a5f8cd73ac92f22",
     "grade": true,
     "grade_id": "cell-64b8b38cd0b965f6",
     "locked": true,
     "points": 1,
     "schema_version": 3,
     "solution": false,
     "task": false
    }
   },
   "outputs": [
    {
     "name": "stdout",
     "output_type": "stream",
     "text": [
      "\u001b[92m All public tests passed\n"
     ]
    }
   ],
   "source": [
    "utils.test_data_sizes(train.size, test.size, val.size)\n",
    "\n"
   ]
  },
  {
   "cell_type": "markdown",
   "metadata": {
    "colab_type": "text",
    "id": "RwTNu4KFqG-K"
   },
   "source": [
    "Here's where you can explore the training stats. You can pop the labels 'is_red' and 'quality' from the data as these will be used as the labels\n"
   ]
  },
  {
   "cell_type": "code",
   "execution_count": 28,
   "metadata": {
    "colab": {},
    "colab_type": "code",
    "id": "Y_afyhhHM6WQ"
   },
   "outputs": [],
   "source": [
    "train_stats = train.describe()\n",
    "train_stats.pop('is_red')\n",
    "train_stats.pop('quality')\n",
    "train_stats = train_stats.transpose()"
   ]
  },
  {
   "cell_type": "markdown",
   "metadata": {
    "colab_type": "text",
    "id": "ahvbYm4fNqSt"
   },
   "source": [
    "Explore the training stats!"
   ]
  },
  {
   "cell_type": "code",
   "execution_count": 29,
   "metadata": {
    "colab": {},
    "colab_type": "code",
    "id": "n_gAtPjZ0otF"
   },
   "outputs": [
    {
     "data": {
      "text/html": [
       "<div>\n",
       "<style scoped>\n",
       "    .dataframe tbody tr th:only-of-type {\n",
       "        vertical-align: middle;\n",
       "    }\n",
       "\n",
       "    .dataframe tbody tr th {\n",
       "        vertical-align: top;\n",
       "    }\n",
       "\n",
       "    .dataframe thead th {\n",
       "        text-align: right;\n",
       "    }\n",
       "</style>\n",
       "<table border=\"1\" class=\"dataframe\">\n",
       "  <thead>\n",
       "    <tr style=\"text-align: right;\">\n",
       "      <th></th>\n",
       "      <th>count</th>\n",
       "      <th>mean</th>\n",
       "      <th>std</th>\n",
       "      <th>min</th>\n",
       "      <th>25%</th>\n",
       "      <th>50%</th>\n",
       "      <th>75%</th>\n",
       "      <th>max</th>\n",
       "    </tr>\n",
       "  </thead>\n",
       "  <tbody>\n",
       "    <tr>\n",
       "      <th>fixed acidity</th>\n",
       "      <td>3155.0</td>\n",
       "      <td>7.196228</td>\n",
       "      <td>1.289583</td>\n",
       "      <td>3.80000</td>\n",
       "      <td>6.400000</td>\n",
       "      <td>7.00000</td>\n",
       "      <td>7.700000</td>\n",
       "      <td>15.90000</td>\n",
       "    </tr>\n",
       "    <tr>\n",
       "      <th>volatile acidity</th>\n",
       "      <td>3155.0</td>\n",
       "      <td>0.340369</td>\n",
       "      <td>0.163873</td>\n",
       "      <td>0.08000</td>\n",
       "      <td>0.230000</td>\n",
       "      <td>0.29000</td>\n",
       "      <td>0.400000</td>\n",
       "      <td>1.33000</td>\n",
       "    </tr>\n",
       "    <tr>\n",
       "      <th>citric acid</th>\n",
       "      <td>3155.0</td>\n",
       "      <td>0.319448</td>\n",
       "      <td>0.143846</td>\n",
       "      <td>0.00000</td>\n",
       "      <td>0.250000</td>\n",
       "      <td>0.31000</td>\n",
       "      <td>0.400000</td>\n",
       "      <td>1.00000</td>\n",
       "    </tr>\n",
       "    <tr>\n",
       "      <th>residual sugar</th>\n",
       "      <td>3155.0</td>\n",
       "      <td>5.190713</td>\n",
       "      <td>4.648187</td>\n",
       "      <td>0.60000</td>\n",
       "      <td>1.800000</td>\n",
       "      <td>2.80000</td>\n",
       "      <td>7.700000</td>\n",
       "      <td>65.80000</td>\n",
       "    </tr>\n",
       "    <tr>\n",
       "      <th>chlorides</th>\n",
       "      <td>3155.0</td>\n",
       "      <td>0.056821</td>\n",
       "      <td>0.035756</td>\n",
       "      <td>0.00900</td>\n",
       "      <td>0.038000</td>\n",
       "      <td>0.04700</td>\n",
       "      <td>0.066000</td>\n",
       "      <td>0.42200</td>\n",
       "    </tr>\n",
       "    <tr>\n",
       "      <th>free sulfur dioxide</th>\n",
       "      <td>3155.0</td>\n",
       "      <td>30.436292</td>\n",
       "      <td>17.216622</td>\n",
       "      <td>1.00000</td>\n",
       "      <td>17.000000</td>\n",
       "      <td>28.00000</td>\n",
       "      <td>41.750000</td>\n",
       "      <td>131.00000</td>\n",
       "    </tr>\n",
       "    <tr>\n",
       "      <th>total sulfur dioxide</th>\n",
       "      <td>3155.0</td>\n",
       "      <td>115.385895</td>\n",
       "      <td>56.419882</td>\n",
       "      <td>7.00000</td>\n",
       "      <td>76.500000</td>\n",
       "      <td>118.00000</td>\n",
       "      <td>156.000000</td>\n",
       "      <td>313.00000</td>\n",
       "    </tr>\n",
       "    <tr>\n",
       "      <th>density</th>\n",
       "      <td>3155.0</td>\n",
       "      <td>0.994580</td>\n",
       "      <td>0.002996</td>\n",
       "      <td>0.98711</td>\n",
       "      <td>0.992255</td>\n",
       "      <td>0.99478</td>\n",
       "      <td>0.996755</td>\n",
       "      <td>1.03898</td>\n",
       "    </tr>\n",
       "    <tr>\n",
       "      <th>pH</th>\n",
       "      <td>3155.0</td>\n",
       "      <td>3.222710</td>\n",
       "      <td>0.159928</td>\n",
       "      <td>2.72000</td>\n",
       "      <td>3.110000</td>\n",
       "      <td>3.21000</td>\n",
       "      <td>3.330000</td>\n",
       "      <td>4.01000</td>\n",
       "    </tr>\n",
       "    <tr>\n",
       "      <th>sulphates</th>\n",
       "      <td>3155.0</td>\n",
       "      <td>0.532960</td>\n",
       "      <td>0.148953</td>\n",
       "      <td>0.22000</td>\n",
       "      <td>0.430000</td>\n",
       "      <td>0.51000</td>\n",
       "      <td>0.600000</td>\n",
       "      <td>1.95000</td>\n",
       "    </tr>\n",
       "    <tr>\n",
       "      <th>alcohol</th>\n",
       "      <td>3155.0</td>\n",
       "      <td>10.527022</td>\n",
       "      <td>1.182710</td>\n",
       "      <td>8.00000</td>\n",
       "      <td>9.500000</td>\n",
       "      <td>10.40000</td>\n",
       "      <td>11.300000</td>\n",
       "      <td>14.90000</td>\n",
       "    </tr>\n",
       "  </tbody>\n",
       "</table>\n",
       "</div>"
      ],
      "text/plain": [
       "                       count        mean        std      min        25%  \\\n",
       "fixed acidity         3155.0    7.196228   1.289583  3.80000   6.400000   \n",
       "volatile acidity      3155.0    0.340369   0.163873  0.08000   0.230000   \n",
       "citric acid           3155.0    0.319448   0.143846  0.00000   0.250000   \n",
       "residual sugar        3155.0    5.190713   4.648187  0.60000   1.800000   \n",
       "chlorides             3155.0    0.056821   0.035756  0.00900   0.038000   \n",
       "free sulfur dioxide   3155.0   30.436292  17.216622  1.00000  17.000000   \n",
       "total sulfur dioxide  3155.0  115.385895  56.419882  7.00000  76.500000   \n",
       "density               3155.0    0.994580   0.002996  0.98711   0.992255   \n",
       "pH                    3155.0    3.222710   0.159928  2.72000   3.110000   \n",
       "sulphates             3155.0    0.532960   0.148953  0.22000   0.430000   \n",
       "alcohol               3155.0   10.527022   1.182710  8.00000   9.500000   \n",
       "\n",
       "                            50%         75%        max  \n",
       "fixed acidity           7.00000    7.700000   15.90000  \n",
       "volatile acidity        0.29000    0.400000    1.33000  \n",
       "citric acid             0.31000    0.400000    1.00000  \n",
       "residual sugar          2.80000    7.700000   65.80000  \n",
       "chlorides               0.04700    0.066000    0.42200  \n",
       "free sulfur dioxide    28.00000   41.750000  131.00000  \n",
       "total sulfur dioxide  118.00000  156.000000  313.00000  \n",
       "density                 0.99478    0.996755    1.03898  \n",
       "pH                      3.21000    3.330000    4.01000  \n",
       "sulphates               0.51000    0.600000    1.95000  \n",
       "alcohol                10.40000   11.300000   14.90000  "
      ]
     },
     "execution_count": 29,
     "metadata": {},
     "output_type": "execute_result"
    }
   ],
   "source": [
    "train_stats"
   ]
  },
  {
   "cell_type": "markdown",
   "metadata": {
    "colab_type": "text",
    "id": "bGPvt9jir_HC"
   },
   "source": [
    "### Get the labels (TODO)\n",
    "\n",
    "The features and labels are currently in the same dataframe.\n",
    "- You will want to store the label columns `is_red` and `quality` separately from the feature columns.  \n",
    "- The following function, `format_output`, gets these two columns from the dataframe (it's given to you).\n",
    "- `format_output` also formats the data into numpy arrays. \n",
    "- Please use the `format_output` and apply it to the `train`, `val` and `test` sets to get dataframes for the labels."
   ]
  },
  {
   "cell_type": "code",
   "execution_count": 30,
   "metadata": {
    "colab": {},
    "colab_type": "code",
    "id": "Z_fs14XQqZVP"
   },
   "outputs": [],
   "source": [
    "def format_output(data):\n",
    "    is_red = data.pop('is_red')\n",
    "    is_red = np.array(is_red)\n",
    "    quality = data.pop('quality')\n",
    "    quality = np.array(quality)\n",
    "    return (quality, is_red)"
   ]
  },
  {
   "cell_type": "code",
   "execution_count": 31,
   "metadata": {
    "colab": {},
    "colab_type": "code",
    "deletable": false,
    "id": "8L3ZZe1fQicm",
    "nbgrader": {
     "cell_type": "code",
     "checksum": "7a86809e54895a816434c48dc903f55d",
     "grade": false,
     "grade_id": "cell-5c30fa2c2a354b0f",
     "locked": false,
     "schema_version": 3,
     "solution": true,
     "task": false
    }
   },
   "outputs": [],
   "source": [
    "## Please uncomment all lines in this cell and replace those marked with `# YOUR CODE HERE`.\n",
    "## You can select all lines in this code cell with Ctrl+A (Windows/Linux) or Cmd+A (Mac), then press Ctrl+/ (Windows/Linux) or Cmd+/ (Mac) to uncomment.\n",
    "\n",
    "\n",
    "\n",
    "# # format the output of the train set\n",
    "train_Y = format_output(train)\n",
    "\n",
    "# # format the output of the val set\n",
    "val_Y = format_output(val)\n",
    "    \n",
    "# # format the output of the test set\n",
    "test_Y = format_output(test)"
   ]
  },
  {
   "cell_type": "code",
   "execution_count": 32,
   "metadata": {
    "deletable": false,
    "editable": false,
    "nbgrader": {
     "cell_type": "code",
     "checksum": "359cabbafaed14ec9bbc1e57a7b6f32c",
     "grade": true,
     "grade_id": "cell-4977d8befb80f56b",
     "locked": true,
     "points": 1,
     "schema_version": 3,
     "solution": false,
     "task": false
    }
   },
   "outputs": [
    {
     "name": "stdout",
     "output_type": "stream",
     "text": [
      "\u001b[92m All public tests passed\n"
     ]
    }
   ],
   "source": [
    "utils.test_format_output(df, train_Y, val_Y, test_Y)"
   ]
  },
  {
   "cell_type": "markdown",
   "metadata": {},
   "source": [
    "Notice that after you get the labels, the `train`, `val` and `test` dataframes no longer contain the label columns, and contain just the feature columns.\n",
    "- This is because you used `.pop` in the `format_output` function."
   ]
  },
  {
   "cell_type": "code",
   "execution_count": 33,
   "metadata": {},
   "outputs": [
    {
     "data": {
      "text/html": [
       "<div>\n",
       "<style scoped>\n",
       "    .dataframe tbody tr th:only-of-type {\n",
       "        vertical-align: middle;\n",
       "    }\n",
       "\n",
       "    .dataframe tbody tr th {\n",
       "        vertical-align: top;\n",
       "    }\n",
       "\n",
       "    .dataframe thead th {\n",
       "        text-align: right;\n",
       "    }\n",
       "</style>\n",
       "<table border=\"1\" class=\"dataframe\">\n",
       "  <thead>\n",
       "    <tr style=\"text-align: right;\">\n",
       "      <th></th>\n",
       "      <th>fixed acidity</th>\n",
       "      <th>volatile acidity</th>\n",
       "      <th>citric acid</th>\n",
       "      <th>residual sugar</th>\n",
       "      <th>chlorides</th>\n",
       "      <th>free sulfur dioxide</th>\n",
       "      <th>total sulfur dioxide</th>\n",
       "      <th>density</th>\n",
       "      <th>pH</th>\n",
       "      <th>sulphates</th>\n",
       "      <th>alcohol</th>\n",
       "    </tr>\n",
       "  </thead>\n",
       "  <tbody>\n",
       "    <tr>\n",
       "      <th>225</th>\n",
       "      <td>5.4</td>\n",
       "      <td>0.23</td>\n",
       "      <td>0.36</td>\n",
       "      <td>1.5</td>\n",
       "      <td>0.030</td>\n",
       "      <td>74.0</td>\n",
       "      <td>121.0</td>\n",
       "      <td>0.98976</td>\n",
       "      <td>3.24</td>\n",
       "      <td>0.99</td>\n",
       "      <td>12.1</td>\n",
       "    </tr>\n",
       "    <tr>\n",
       "      <th>3557</th>\n",
       "      <td>6.1</td>\n",
       "      <td>0.27</td>\n",
       "      <td>0.44</td>\n",
       "      <td>6.7</td>\n",
       "      <td>0.041</td>\n",
       "      <td>61.0</td>\n",
       "      <td>230.0</td>\n",
       "      <td>0.99505</td>\n",
       "      <td>3.12</td>\n",
       "      <td>0.40</td>\n",
       "      <td>8.9</td>\n",
       "    </tr>\n",
       "    <tr>\n",
       "      <th>3825</th>\n",
       "      <td>8.8</td>\n",
       "      <td>0.60</td>\n",
       "      <td>0.29</td>\n",
       "      <td>2.2</td>\n",
       "      <td>0.098</td>\n",
       "      <td>5.0</td>\n",
       "      <td>15.0</td>\n",
       "      <td>0.99880</td>\n",
       "      <td>3.36</td>\n",
       "      <td>0.49</td>\n",
       "      <td>9.1</td>\n",
       "    </tr>\n",
       "    <tr>\n",
       "      <th>1740</th>\n",
       "      <td>7.3</td>\n",
       "      <td>0.26</td>\n",
       "      <td>0.33</td>\n",
       "      <td>11.8</td>\n",
       "      <td>0.057</td>\n",
       "      <td>48.0</td>\n",
       "      <td>127.0</td>\n",
       "      <td>0.99693</td>\n",
       "      <td>3.10</td>\n",
       "      <td>0.55</td>\n",
       "      <td>10.0</td>\n",
       "    </tr>\n",
       "    <tr>\n",
       "      <th>1221</th>\n",
       "      <td>7.6</td>\n",
       "      <td>0.31</td>\n",
       "      <td>0.24</td>\n",
       "      <td>1.8</td>\n",
       "      <td>0.037</td>\n",
       "      <td>39.0</td>\n",
       "      <td>150.0</td>\n",
       "      <td>0.99130</td>\n",
       "      <td>3.05</td>\n",
       "      <td>0.44</td>\n",
       "      <td>11.8</td>\n",
       "    </tr>\n",
       "  </tbody>\n",
       "</table>\n",
       "</div>"
      ],
      "text/plain": [
       "      fixed acidity  volatile acidity  citric acid  residual sugar  chlorides  \\\n",
       "225             5.4              0.23         0.36             1.5      0.030   \n",
       "3557            6.1              0.27         0.44             6.7      0.041   \n",
       "3825            8.8              0.60         0.29             2.2      0.098   \n",
       "1740            7.3              0.26         0.33            11.8      0.057   \n",
       "1221            7.6              0.31         0.24             1.8      0.037   \n",
       "\n",
       "      free sulfur dioxide  total sulfur dioxide  density    pH  sulphates  \\\n",
       "225                  74.0                 121.0  0.98976  3.24       0.99   \n",
       "3557                 61.0                 230.0  0.99505  3.12       0.40   \n",
       "3825                  5.0                  15.0  0.99880  3.36       0.49   \n",
       "1740                 48.0                 127.0  0.99693  3.10       0.55   \n",
       "1221                 39.0                 150.0  0.99130  3.05       0.44   \n",
       "\n",
       "      alcohol  \n",
       "225      12.1  \n",
       "3557      8.9  \n",
       "3825      9.1  \n",
       "1740     10.0  \n",
       "1221     11.8  "
      ]
     },
     "execution_count": 33,
     "metadata": {},
     "output_type": "execute_result"
    }
   ],
   "source": [
    "train.head()"
   ]
  },
  {
   "cell_type": "markdown",
   "metadata": {
    "colab_type": "text",
    "id": "hEdbrruAsN1D"
   },
   "source": [
    "### Normalize the data (TODO)\n",
    "\n",
    "Next, you can normalize the data, x, using the formula:\n",
    "$$x_{norm} = \\frac{x - \\mu}{\\sigma}$$\n",
    "- The `norm` function is defined for you.\n",
    "- Please apply the `norm` function to normalize the dataframes that contains the feature columns of `train`, `val` and `test` sets."
   ]
  },
  {
   "cell_type": "code",
   "execution_count": 34,
   "metadata": {
    "colab": {},
    "colab_type": "code",
    "id": "WWiZPAHCLjUs"
   },
   "outputs": [],
   "source": [
    "def norm(x):\n",
    "    return (x - train_stats['mean']) / train_stats['std']"
   ]
  },
  {
   "cell_type": "code",
   "execution_count": 35,
   "metadata": {
    "colab": {},
    "colab_type": "code",
    "deletable": false,
    "id": "JEaOi2I2Lk69",
    "nbgrader": {
     "cell_type": "code",
     "checksum": "6bc0cdcb563d192f271067aa3373ff32",
     "grade": false,
     "grade_id": "cell-d8416d975c371095",
     "locked": false,
     "schema_version": 3,
     "solution": true,
     "task": false
    }
   },
   "outputs": [],
   "source": [
    "## Please uncomment all lines in this cell and replace those marked with `# YOUR CODE HERE`.\n",
    "## You can select all lines in this code cell with Ctrl+A (Windows/Linux) or Cmd+A (Mac), then press Ctrl+/ (Windows/Linux) or Cmd+/ (Mac) to uncomment.\n",
    "\n",
    "\n",
    "\n",
    "# # normalize the train set\n",
    "norm_train_X = norm(train)\n",
    "    \n",
    "# # normalize the val set\n",
    "norm_val_X = norm(val)\n",
    "    \n",
    "# # normalize the test set\n",
    "norm_test_X = norm(test)"
   ]
  },
  {
   "cell_type": "code",
   "execution_count": 36,
   "metadata": {
    "deletable": false,
    "editable": false,
    "nbgrader": {
     "cell_type": "code",
     "checksum": "4f567db45bf40191601780379cc100b8",
     "grade": true,
     "grade_id": "cell-97fad979d157529b",
     "locked": true,
     "points": 1,
     "schema_version": 3,
     "solution": false,
     "task": false
    }
   },
   "outputs": [
    {
     "name": "stdout",
     "output_type": "stream",
     "text": [
      "\u001b[92m All public tests passed\n"
     ]
    }
   ],
   "source": [
    "utils.test_norm(norm_train_X, norm_val_X, norm_test_X, train, val, test)\n"
   ]
  },
  {
   "cell_type": "markdown",
   "metadata": {
    "colab_type": "text",
    "id": "hzykDwQhsaPO"
   },
   "source": [
    "## Define the Model (TODO)\n",
    "\n",
    "Define the model using the functional API. The base model will be 2 `Dense` layers of 128 neurons each, and have the `'relu'` activation.\n",
    "- Check out the documentation for [tf.keras.layers.Dense](https://www.tensorflow.org/api_docs/python/tf/keras/layers/Dense)"
   ]
  },
  {
   "cell_type": "code",
   "execution_count": 37,
   "metadata": {
    "colab": {},
    "colab_type": "code",
    "deletable": false,
    "id": "Rhcns3oTFkM6",
    "nbgrader": {
     "cell_type": "code",
     "checksum": "74b031247e569526552bf13a034a1c07",
     "grade": false,
     "grade_id": "cell-73fceedad1fe351c",
     "locked": false,
     "schema_version": 3,
     "solution": true,
     "task": false
    }
   },
   "outputs": [],
   "source": [
    "## Please uncomment all lines in this cell and replace those marked with `# YOUR CODE HERE`.\n",
    "## You can select all lines in this code cell with Ctrl+A (Windows/Linux) or Cmd+A (Mac), then press Ctrl+/ (Windows/Linux) or Cmd+/ (Mac) to uncomment.\n",
    "\n",
    "\n",
    "\n",
    "def base_model(inputs):\n",
    "    \n",
    "    \n",
    "#     # connect a Dense layer with 128 neurons and a relu activation\n",
    "    x = Dense(128, activation=\"relu\")(inputs)\n",
    "    \n",
    "#     # connect another Dense layer with 128 neurons and a relu activation\n",
    "    x = Dense(128, activation=\"relu\")(x)\n",
    "    return x\n",
    "  "
   ]
  },
  {
   "cell_type": "code",
   "execution_count": 38,
   "metadata": {
    "deletable": false,
    "editable": false,
    "nbgrader": {
     "cell_type": "code",
     "checksum": "9255924b3def80f679616e4c851a43e1",
     "grade": true,
     "grade_id": "cell-54f742a133353d75",
     "locked": true,
     "points": 1,
     "schema_version": 3,
     "solution": false,
     "task": false
    }
   },
   "outputs": [
    {
     "name": "stdout",
     "output_type": "stream",
     "text": [
      "\u001b[92m All public tests passed\n"
     ]
    }
   ],
   "source": [
    "utils.test_base_model(base_model)"
   ]
  },
  {
   "cell_type": "markdown",
   "metadata": {
    "colab_type": "text",
    "id": "xem_fcVws6Kz"
   },
   "source": [
    "# Define output layers of the model (TODO)\n",
    "\n",
    "You will add output layers to the base model. \n",
    "- The model will need two outputs.\n",
    "\n",
    "One output layer will predict wine quality, which is a numeric value.\n",
    "- Define a `Dense` layer with 1 neuron.\n",
    "- Since this is a regression output, the activation can be left as its default value `None`.\n",
    "\n",
    "The other output layer will predict the wine type, which is either red `1` or not red `0` (white).\n",
    "- Define a `Dense` layer with 1 neuron.\n",
    "- Since there are two possible categories, you can use a sigmoid activation for binary classification.\n",
    "\n",
    "Define the `Model`\n",
    "- Define the `Model` object, and set the following parameters:\n",
    "  - `inputs`: pass in the inputs to the model as a list.\n",
    "  - `outputs`: pass in a list of the outputs that you just defined: wine quality, then wine type.\n",
    "  - **Note**: please list the wine quality before wine type in the outputs, as this will affect the calculated loss if you choose the other order."
   ]
  },
  {
   "cell_type": "code",
   "execution_count": 39,
   "metadata": {
    "colab": {},
    "colab_type": "code",
    "deletable": false,
    "id": "n5UGF8PMVLPt",
    "nbgrader": {
     "cell_type": "code",
     "checksum": "76d35b90d20cdcbb22986cd8211057de",
     "grade": false,
     "grade_id": "cell-19e285f482f021fb",
     "locked": false,
     "schema_version": 3,
     "solution": true,
     "task": false
    }
   },
   "outputs": [],
   "source": [
    "## Please uncomment all lines in this cell and replace those marked with `# YOUR CODE HERE`.\n",
    "## You can select all lines in this code cell with Ctrl+A (Windows/Linux) or Cmd+A (Mac), then press Ctrl+/ (Windows/Linux) or Cmd+/ (Mac) to uncomment.\n",
    "\n",
    "\n",
    "def final_model(inputs):\n",
    "    \n",
    "    \n",
    "#     # get the base model\n",
    "    x = base_model(inputs)\n",
    "\n",
    "#     # connect the output Dense layer for regression\n",
    "    wine_quality = Dense(units='1', name='wine_quality')(x)\n",
    "\n",
    "#     # connect the output Dense layer for classification. this will use a sigmoid activation.\n",
    "    wine_type = Dense(units='1', activation=\"sigmoid\", name='wine_type')(x)\n",
    "\n",
    "#     # define the model using the input and output layers\n",
    "    model = Model(inputs=inputs, outputs=[wine_quality,wine_type])\n",
    "\n",
    "    return model"
   ]
  },
  {
   "cell_type": "code",
   "execution_count": 40,
   "metadata": {
    "deletable": false,
    "editable": false,
    "nbgrader": {
     "cell_type": "code",
     "checksum": "89cbf89d8ab5e2e59ecf7f63f517520a",
     "grade": true,
     "grade_id": "cell-40d050f855c817d1",
     "locked": true,
     "points": 1,
     "schema_version": 3,
     "solution": false,
     "task": false
    }
   },
   "outputs": [
    {
     "name": "stdout",
     "output_type": "stream",
     "text": [
      "\u001b[92m All public tests passed\n"
     ]
    }
   ],
   "source": [
    "utils.test_final_model(final_model)"
   ]
  },
  {
   "cell_type": "markdown",
   "metadata": {
    "colab_type": "text",
    "id": "5R0BMTsltZyu"
   },
   "source": [
    "## Compiling the Model\n",
    "\n",
    "Next, compile the model. When setting the loss parameter of `model.compile`, you're setting the loss for each of the two outputs (wine quality and wine type).\n",
    "\n",
    "To set more than one loss, use a dictionary of key-value pairs.\n",
    "- You can look at the docs for the losses [here](https://www.tensorflow.org/api_docs/python/tf/keras/losses#functions).\n",
    "    - **Note**: For the desired spelling, please look at the \"Functions\" section of the documentation and not the \"classes\" section on that same page.\n",
    "- wine_type: Since you will be performing binary classification on wine type, you should use the binary crossentropy loss function for it.  Please pass this in as a string.  \n",
    "  - **Hint**, this should be all lowercase.  In the documentation, you'll see this under the \"Functions\" section, not the \"Classes\" section.\n",
    "- wine_quality: since this is a regression output, use the mean squared error.  Please pass it in as a string, all lowercase.\n",
    "  - **Hint**: You may notice that there are two aliases for mean squared error.  Please use the shorter name.\n",
    "\n",
    "\n",
    "You will also set the metric for each of the two outputs.  Again, to set metrics for two or more outputs, use a dictionary with key value pairs.\n",
    "- The metrics documentation is linked [here](https://www.tensorflow.org/api_docs/python/tf/keras/metrics).\n",
    "- For the wine type, please set it to accuracy as a string, all lowercase.\n",
    "- For wine quality, please use the root mean squared error.  Instead of a string, you'll set it to an instance of the class [RootMeanSquaredError](https://www.tensorflow.org/api_docs/python/tf/keras/metrics/RootMeanSquaredError), which belongs to the tf.keras.metrics module.\n",
    "\n",
    "**Note**: If you see the error message \n",
    ">Exception: wine quality loss function is incorrect.\n",
    "\n",
    "- Please also check your other losses and metrics, as the error may be caused by the other three key-value pairs and not the wine quality loss."
   ]
  },
  {
   "cell_type": "code",
   "execution_count": 45,
   "metadata": {
    "colab": {},
    "colab_type": "code",
    "deletable": false,
    "id": "LK11duUbUjmh",
    "nbgrader": {
     "cell_type": "code",
     "checksum": "22f45067ca69eb2ccadb43874dbcc27b",
     "grade": false,
     "grade_id": "cell-81afdc4dcca51d5e",
     "locked": false,
     "schema_version": 3,
     "solution": true,
     "task": false
    }
   },
   "outputs": [],
   "source": [
    "## Please uncomment all lines in this cell and replace those marked with `# YOUR CODE HERE`.\n",
    "## You can select all lines in this code cell with Ctrl+A (Windows/Linux) or Cmd+A (Mac), then press Ctrl+/ (Windows/Linux) or Cmd+/ (Mac) to uncomment.\n",
    "\n",
    "\n",
    "\n",
    "inputs = tf.keras.layers.Input(shape=(11,))\n",
    "rms = tf.keras.optimizers.RMSprop(lr=0.0001)\n",
    "model = final_model(inputs)\n",
    "\n",
    "model.compile(optimizer=rms, \n",
    "               loss = {'wine_type' : \"binary_crossentropy\",\n",
    "                       'wine_quality' : \"mean_squared_error\"\n",
    "                      },\n",
    "               metrics = {'wine_type' : \"accuracy\",\n",
    "                          'wine_quality': tf.keras.metrics.RootMeanSquaredError()\n",
    "                        }\n",
    "              )\n"
   ]
  },
  {
   "cell_type": "code",
   "execution_count": 46,
   "metadata": {
    "deletable": false,
    "editable": false,
    "nbgrader": {
     "cell_type": "code",
     "checksum": "88e02238ea5e456ff65e835cc8158054",
     "grade": true,
     "grade_id": "cell-2eeeba02391c4632",
     "locked": true,
     "points": 1,
     "schema_version": 3,
     "solution": false,
     "task": false
    }
   },
   "outputs": [
    {
     "name": "stdout",
     "output_type": "stream",
     "text": [
      "\u001b[92m All public tests passed\n"
     ]
    }
   ],
   "source": [
    "utils.test_model_compile(model)"
   ]
  },
  {
   "cell_type": "markdown",
   "metadata": {
    "colab_type": "text",
    "id": "90MpAMpWuKm-"
   },
   "source": [
    "## Training the Model (TODO)\n",
    "\n",
    "Fit the model to the training inputs and outputs. \n",
    "- Check the documentation for [model.fit](https://www.tensorflow.org/api_docs/python/tf/keras/Model#fit).\n",
    "- Remember to use the normalized training set as inputs. \n",
    "- For the validation data, please use the normalized validation set.\n",
    "\n",
    "**Important: Please do not increase the number of epochs below. This is to avoid the grader from timing out. You can increase it once you have submitted your work.**"
   ]
  },
  {
   "cell_type": "code",
   "execution_count": 48,
   "metadata": {
    "colab": {},
    "colab_type": "code",
    "deletable": false,
    "id": "_eiZkle4XwiY",
    "nbgrader": {
     "cell_type": "code",
     "checksum": "d1a4565296017a0611c6f2de675f96cf",
     "grade": false,
     "grade_id": "cell-0bb56262896f6680",
     "locked": false,
     "schema_version": 3,
     "solution": true,
     "task": false
    }
   },
   "outputs": [
    {
     "name": "stdout",
     "output_type": "stream",
     "text": [
      "Train on 3155 samples, validate on 789 samples\n",
      "Epoch 1/40\n",
      "3155/3155 [==============================] - 1s 350us/sample - loss: 22.3896 - wine_quality_loss: 21.7554 - wine_type_loss: 0.5979 - wine_quality_root_mean_squared_error: 4.6681 - wine_type_accuracy: 0.8323 - val_loss: 14.8178 - val_wine_quality_loss: 14.2294 - val_wine_type_loss: 0.5667 - val_wine_quality_root_mean_squared_error: 3.7750 - val_wine_type_accuracy: 0.8872\n",
      "Epoch 2/40\n",
      "3155/3155 [==============================] - 0s 95us/sample - loss: 8.5480 - wine_quality_loss: 8.0071 - wine_type_loss: 0.5208 - wine_quality_root_mean_squared_error: 2.8332 - wine_type_accuracy: 0.8552 - val_loss: 5.0301 - val_wine_quality_loss: 4.5236 - val_wine_type_loss: 0.4881 - val_wine_quality_root_mean_squared_error: 2.1312 - val_wine_type_accuracy: 0.8175\n",
      "Epoch 3/40\n",
      "3155/3155 [==============================] - 0s 91us/sample - loss: 3.3578 - wine_quality_loss: 2.9460 - wine_type_loss: 0.4266 - wine_quality_root_mean_squared_error: 1.7122 - wine_type_accuracy: 0.8403 - val_loss: 3.3815 - val_wine_quality_loss: 2.9762 - val_wine_type_loss: 0.3882 - val_wine_quality_root_mean_squared_error: 1.7301 - val_wine_type_accuracy: 0.8771\n",
      "Epoch 4/40\n",
      "3155/3155 [==============================] - 0s 93us/sample - loss: 2.5409 - wine_quality_loss: 2.2068 - wine_type_loss: 0.3326 - wine_quality_root_mean_squared_error: 1.4860 - wine_type_accuracy: 0.9113 - val_loss: 2.7675 - val_wine_quality_loss: 2.4572 - val_wine_type_loss: 0.2953 - val_wine_quality_root_mean_squared_error: 1.5724 - val_wine_type_accuracy: 0.9544\n",
      "Epoch 5/40\n",
      "3155/3155 [==============================] - 0s 77us/sample - loss: 2.0910 - wine_quality_loss: 1.8362 - wine_type_loss: 0.2523 - wine_quality_root_mean_squared_error: 1.3558 - wine_type_accuracy: 0.9648 - val_loss: 2.3304 - val_wine_quality_loss: 2.0966 - val_wine_type_loss: 0.2203 - val_wine_quality_root_mean_squared_error: 1.4527 - val_wine_type_accuracy: 0.9747\n",
      "Epoch 6/40\n",
      "3155/3155 [==============================] - 0s 92us/sample - loss: 1.7902 - wine_quality_loss: 1.5964 - wine_type_loss: 0.1935 - wine_quality_root_mean_squared_error: 1.2636 - wine_type_accuracy: 0.9807 - val_loss: 2.0366 - val_wine_quality_loss: 1.8587 - val_wine_type_loss: 0.1658 - val_wine_quality_root_mean_squared_error: 1.3679 - val_wine_type_accuracy: 0.9886\n",
      "Epoch 7/40\n",
      "3155/3155 [==============================] - 0s 90us/sample - loss: 1.5832 - wine_quality_loss: 1.4365 - wine_type_loss: 0.1509 - wine_quality_root_mean_squared_error: 1.1968 - wine_type_accuracy: 0.9864 - val_loss: 1.8268 - val_wine_quality_loss: 1.6876 - val_wine_type_loss: 0.1282 - val_wine_quality_root_mean_squared_error: 1.3034 - val_wine_type_accuracy: 0.9886\n",
      "Epoch 8/40\n",
      "3155/3155 [==============================] - 0s 75us/sample - loss: 1.4353 - wine_quality_loss: 1.3156 - wine_type_loss: 0.1219 - wine_quality_root_mean_squared_error: 1.1459 - wine_type_accuracy: 0.9861 - val_loss: 1.6622 - val_wine_quality_loss: 1.5506 - val_wine_type_loss: 0.1012 - val_wine_quality_root_mean_squared_error: 1.2495 - val_wine_type_accuracy: 0.9886\n",
      "Epoch 9/40\n",
      "3155/3155 [==============================] - 0s 91us/sample - loss: 1.3170 - wine_quality_loss: 1.2131 - wine_type_loss: 0.1019 - wine_quality_root_mean_squared_error: 1.1023 - wine_type_accuracy: 0.9876 - val_loss: 1.5152 - val_wine_quality_loss: 1.4229 - val_wine_type_loss: 0.0833 - val_wine_quality_root_mean_squared_error: 1.1967 - val_wine_type_accuracy: 0.9886\n",
      "Epoch 10/40\n",
      "3155/3155 [==============================] - 0s 91us/sample - loss: 1.2158 - wine_quality_loss: 1.1288 - wine_type_loss: 0.0876 - wine_quality_root_mean_squared_error: 1.0622 - wine_type_accuracy: 0.9880 - val_loss: 1.4070 - val_wine_quality_loss: 1.3297 - val_wine_type_loss: 0.0688 - val_wine_quality_root_mean_squared_error: 1.1569 - val_wine_type_accuracy: 0.9924\n",
      "Epoch 11/40\n",
      "3155/3155 [==============================] - 0s 91us/sample - loss: 1.1234 - wine_quality_loss: 1.0446 - wine_type_loss: 0.0769 - wine_quality_root_mean_squared_error: 1.0230 - wine_type_accuracy: 0.9886 - val_loss: 1.3139 - val_wine_quality_loss: 1.2472 - val_wine_type_loss: 0.0585 - val_wine_quality_root_mean_squared_error: 1.1205 - val_wine_type_accuracy: 0.9924\n",
      "Epoch 12/40\n",
      "3155/3155 [==============================] - 0s 90us/sample - loss: 1.0520 - wine_quality_loss: 0.9841 - wine_type_loss: 0.0690 - wine_quality_root_mean_squared_error: 0.9915 - wine_type_accuracy: 0.9886 - val_loss: 1.2260 - val_wine_quality_loss: 1.1672 - val_wine_type_loss: 0.0510 - val_wine_quality_root_mean_squared_error: 1.0841 - val_wine_type_accuracy: 0.9924\n",
      "Epoch 13/40\n",
      "3155/3155 [==============================] - 0s 77us/sample - loss: 0.9903 - wine_quality_loss: 0.9272 - wine_type_loss: 0.0631 - wine_quality_root_mean_squared_error: 0.9629 - wine_type_accuracy: 0.9889 - val_loss: 1.1501 - val_wine_quality_loss: 1.0975 - val_wine_type_loss: 0.0453 - val_wine_quality_root_mean_squared_error: 1.0511 - val_wine_type_accuracy: 0.9924\n",
      "Epoch 14/40\n",
      "3155/3155 [==============================] - 0s 89us/sample - loss: 0.9302 - wine_quality_loss: 0.8695 - wine_type_loss: 0.0586 - wine_quality_root_mean_squared_error: 0.9336 - wine_type_accuracy: 0.9899 - val_loss: 1.0754 - val_wine_quality_loss: 1.0284 - val_wine_type_loss: 0.0402 - val_wine_quality_root_mean_squared_error: 1.0175 - val_wine_type_accuracy: 0.9924\n",
      "Epoch 15/40\n",
      "3155/3155 [==============================] - 0s 88us/sample - loss: 0.8751 - wine_quality_loss: 0.8204 - wine_type_loss: 0.0549 - wine_quality_root_mean_squared_error: 0.9056 - wine_type_accuracy: 0.9895 - val_loss: 1.0151 - val_wine_quality_loss: 0.9724 - val_wine_type_loss: 0.0363 - val_wine_quality_root_mean_squared_error: 0.9894 - val_wine_type_accuracy: 0.9937\n",
      "Epoch 16/40\n",
      "3155/3155 [==============================] - 0s 75us/sample - loss: 0.8257 - wine_quality_loss: 0.7741 - wine_type_loss: 0.0518 - wine_quality_root_mean_squared_error: 0.8797 - wine_type_accuracy: 0.9902 - val_loss: 0.9561 - val_wine_quality_loss: 0.9170 - val_wine_type_loss: 0.0332 - val_wine_quality_root_mean_squared_error: 0.9607 - val_wine_type_accuracy: 0.9937\n",
      "Epoch 17/40\n",
      "3155/3155 [==============================] - 0s 88us/sample - loss: 0.7816 - wine_quality_loss: 0.7304 - wine_type_loss: 0.0496 - wine_quality_root_mean_squared_error: 0.8556 - wine_type_accuracy: 0.9902 - val_loss: 0.9115 - val_wine_quality_loss: 0.8749 - val_wine_type_loss: 0.0305 - val_wine_quality_root_mean_squared_error: 0.9386 - val_wine_type_accuracy: 0.9937\n",
      "Epoch 18/40\n",
      "3155/3155 [==============================] - 0s 74us/sample - loss: 0.7407 - wine_quality_loss: 0.6918 - wine_type_loss: 0.0475 - wine_quality_root_mean_squared_error: 0.8325 - wine_type_accuracy: 0.9908 - val_loss: 0.8582 - val_wine_quality_loss: 0.8242 - val_wine_type_loss: 0.0283 - val_wine_quality_root_mean_squared_error: 0.9110 - val_wine_type_accuracy: 0.9937\n",
      "Epoch 19/40\n",
      "3155/3155 [==============================] - 0s 89us/sample - loss: 0.7040 - wine_quality_loss: 0.6577 - wine_type_loss: 0.0461 - wine_quality_root_mean_squared_error: 0.8111 - wine_type_accuracy: 0.9908 - val_loss: 0.8133 - val_wine_quality_loss: 0.7816 - val_wine_type_loss: 0.0264 - val_wine_quality_root_mean_squared_error: 0.8871 - val_wine_type_accuracy: 0.9937\n",
      "Epoch 20/40\n",
      "3155/3155 [==============================] - 0s 88us/sample - loss: 0.6721 - wine_quality_loss: 0.6280 - wine_type_loss: 0.0445 - wine_quality_root_mean_squared_error: 0.7921 - wine_type_accuracy: 0.9911 - val_loss: 0.7675 - val_wine_quality_loss: 0.7375 - val_wine_type_loss: 0.0249 - val_wine_quality_root_mean_squared_error: 0.8618 - val_wine_type_accuracy: 0.9937\n",
      "Epoch 21/40\n",
      "3155/3155 [==============================] - 0s 72us/sample - loss: 0.6409 - wine_quality_loss: 0.5968 - wine_type_loss: 0.0436 - wine_quality_root_mean_squared_error: 0.7729 - wine_type_accuracy: 0.9914 - val_loss: 0.7407 - val_wine_quality_loss: 0.7121 - val_wine_type_loss: 0.0234 - val_wine_quality_root_mean_squared_error: 0.8469 - val_wine_type_accuracy: 0.9937\n",
      "Epoch 22/40\n",
      "3155/3155 [==============================] - 0s 89us/sample - loss: 0.6134 - wine_quality_loss: 0.5718 - wine_type_loss: 0.0422 - wine_quality_root_mean_squared_error: 0.7557 - wine_type_accuracy: 0.9921 - val_loss: 0.7017 - val_wine_quality_loss: 0.6745 - val_wine_type_loss: 0.0223 - val_wine_quality_root_mean_squared_error: 0.8243 - val_wine_type_accuracy: 0.9937\n",
      "Epoch 23/40\n",
      "3155/3155 [==============================] - 0s 72us/sample - loss: 0.5869 - wine_quality_loss: 0.5451 - wine_type_loss: 0.0414 - wine_quality_root_mean_squared_error: 0.7385 - wine_type_accuracy: 0.9918 - val_loss: 0.6733 - val_wine_quality_loss: 0.6474 - val_wine_type_loss: 0.0213 - val_wine_quality_root_mean_squared_error: 0.8075 - val_wine_type_accuracy: 0.9937\n",
      "Epoch 24/40\n",
      "3155/3155 [==============================] - 0s 90us/sample - loss: 0.5637 - wine_quality_loss: 0.5238 - wine_type_loss: 0.0406 - wine_quality_root_mean_squared_error: 0.7233 - wine_type_accuracy: 0.9918 - val_loss: 0.6474 - val_wine_quality_loss: 0.6226 - val_wine_type_loss: 0.0203 - val_wine_quality_root_mean_squared_error: 0.7919 - val_wine_type_accuracy: 0.9937\n",
      "Epoch 25/40\n",
      "3155/3155 [==============================] - 0s 89us/sample - loss: 0.5400 - wine_quality_loss: 0.4997 - wine_type_loss: 0.0397 - wine_quality_root_mean_squared_error: 0.7072 - wine_type_accuracy: 0.9924 - val_loss: 0.6124 - val_wine_quality_loss: 0.5885 - val_wine_type_loss: 0.0196 - val_wine_quality_root_mean_squared_error: 0.7699 - val_wine_type_accuracy: 0.9962\n",
      "Epoch 26/40\n",
      "3155/3155 [==============================] - 0s 73us/sample - loss: 0.5225 - wine_quality_loss: 0.4825 - wine_type_loss: 0.0422 - wine_quality_root_mean_squared_error: 0.6951 - wine_type_accuracy: 0.9924 - val_loss: 0.5980 - val_wine_quality_loss: 0.5747 - val_wine_type_loss: 0.0190 - val_wine_quality_root_mean_squared_error: 0.7610 - val_wine_type_accuracy: 0.9962\n",
      "Epoch 27/40\n",
      "3155/3155 [==============================] - 0s 91us/sample - loss: 0.5043 - wine_quality_loss: 0.4651 - wine_type_loss: 0.0384 - wine_quality_root_mean_squared_error: 0.6824 - wine_type_accuracy: 0.9927 - val_loss: 0.5692 - val_wine_quality_loss: 0.5468 - val_wine_type_loss: 0.0183 - val_wine_quality_root_mean_squared_error: 0.7422 - val_wine_type_accuracy: 0.9962\n",
      "Epoch 28/40\n",
      "3155/3155 [==============================] - 0s 88us/sample - loss: 0.4877 - wine_quality_loss: 0.4497 - wine_type_loss: 0.0379 - wine_quality_root_mean_squared_error: 0.6706 - wine_type_accuracy: 0.9924 - val_loss: 0.5596 - val_wine_quality_loss: 0.5378 - val_wine_type_loss: 0.0178 - val_wine_quality_root_mean_squared_error: 0.7361 - val_wine_type_accuracy: 0.9962\n",
      "Epoch 29/40\n",
      "3155/3155 [==============================] - 0s 75us/sample - loss: 0.4713 - wine_quality_loss: 0.4331 - wine_type_loss: 0.0374 - wine_quality_root_mean_squared_error: 0.6587 - wine_type_accuracy: 0.9933 - val_loss: 0.5467 - val_wine_quality_loss: 0.5256 - val_wine_type_loss: 0.0172 - val_wine_quality_root_mean_squared_error: 0.7276 - val_wine_type_accuracy: 0.9975\n",
      "Epoch 30/40\n",
      "3155/3155 [==============================] - 0s 88us/sample - loss: 0.4594 - wine_quality_loss: 0.4225 - wine_type_loss: 0.0369 - wine_quality_root_mean_squared_error: 0.6499 - wine_type_accuracy: 0.9927 - val_loss: 0.5289 - val_wine_quality_loss: 0.5082 - val_wine_type_loss: 0.0167 - val_wine_quality_root_mean_squared_error: 0.7157 - val_wine_type_accuracy: 0.9975\n",
      "Epoch 31/40\n",
      "3155/3155 [==============================] - 0s 88us/sample - loss: 0.4473 - wine_quality_loss: 0.4098 - wine_type_loss: 0.0365 - wine_quality_root_mean_squared_error: 0.6408 - wine_type_accuracy: 0.9930 - val_loss: 0.5042 - val_wine_quality_loss: 0.4843 - val_wine_type_loss: 0.0162 - val_wine_quality_root_mean_squared_error: 0.6986 - val_wine_type_accuracy: 0.9962\n",
      "Epoch 32/40\n",
      "3155/3155 [==============================] - 0s 75us/sample - loss: 0.4352 - wine_quality_loss: 0.3988 - wine_type_loss: 0.0361 - wine_quality_root_mean_squared_error: 0.6317 - wine_type_accuracy: 0.9930 - val_loss: 0.4966 - val_wine_quality_loss: 0.4769 - val_wine_type_loss: 0.0158 - val_wine_quality_root_mean_squared_error: 0.6934 - val_wine_type_accuracy: 0.9962\n",
      "Epoch 33/40\n",
      "3155/3155 [==============================] - 0s 89us/sample - loss: 0.4249 - wine_quality_loss: 0.3896 - wine_type_loss: 0.0356 - wine_quality_root_mean_squared_error: 0.6238 - wine_type_accuracy: 0.9933 - val_loss: 0.4859 - val_wine_quality_loss: 0.4667 - val_wine_type_loss: 0.0155 - val_wine_quality_root_mean_squared_error: 0.6858 - val_wine_type_accuracy: 0.9975\n",
      "Epoch 34/40\n",
      "3155/3155 [==============================] - 0s 72us/sample - loss: 0.4156 - wine_quality_loss: 0.3805 - wine_type_loss: 0.0368 - wine_quality_root_mean_squared_error: 0.6166 - wine_type_accuracy: 0.9930 - val_loss: 0.4698 - val_wine_quality_loss: 0.4512 - val_wine_type_loss: 0.0152 - val_wine_quality_root_mean_squared_error: 0.6742 - val_wine_type_accuracy: 0.9975\n",
      "Epoch 35/40\n",
      "3155/3155 [==============================] - 0s 89us/sample - loss: 0.4074 - wine_quality_loss: 0.3719 - wine_type_loss: 0.0348 - wine_quality_root_mean_squared_error: 0.6103 - wine_type_accuracy: 0.9933 - val_loss: 0.4600 - val_wine_quality_loss: 0.4417 - val_wine_type_loss: 0.0150 - val_wine_quality_root_mean_squared_error: 0.6671 - val_wine_type_accuracy: 0.9975\n",
      "Epoch 36/40\n",
      "3155/3155 [==============================] - 0s 87us/sample - loss: 0.3981 - wine_quality_loss: 0.3632 - wine_type_loss: 0.0346 - wine_quality_root_mean_squared_error: 0.6029 - wine_type_accuracy: 0.9937 - val_loss: 0.4511 - val_wine_quality_loss: 0.4332 - val_wine_type_loss: 0.0147 - val_wine_quality_root_mean_squared_error: 0.6606 - val_wine_type_accuracy: 0.9975\n",
      "Epoch 37/40\n",
      "3155/3155 [==============================] - 0s 74us/sample - loss: 0.3914 - wine_quality_loss: 0.3582 - wine_type_loss: 0.0341 - wine_quality_root_mean_squared_error: 0.5976 - wine_type_accuracy: 0.9940 - val_loss: 0.4421 - val_wine_quality_loss: 0.4244 - val_wine_type_loss: 0.0144 - val_wine_quality_root_mean_squared_error: 0.6540 - val_wine_type_accuracy: 0.9975\n",
      "Epoch 38/40\n",
      "3155/3155 [==============================] - 0s 88us/sample - loss: 0.3861 - wine_quality_loss: 0.3521 - wine_type_loss: 0.0338 - wine_quality_root_mean_squared_error: 0.5935 - wine_type_accuracy: 0.9940 - val_loss: 0.4377 - val_wine_quality_loss: 0.4203 - val_wine_type_loss: 0.0143 - val_wine_quality_root_mean_squared_error: 0.6507 - val_wine_type_accuracy: 0.9975\n",
      "Epoch 39/40\n",
      "3155/3155 [==============================] - 0s 73us/sample - loss: 0.3806 - wine_quality_loss: 0.3469 - wine_type_loss: 0.0336 - wine_quality_root_mean_squared_error: 0.5890 - wine_type_accuracy: 0.9943 - val_loss: 0.4288 - val_wine_quality_loss: 0.4115 - val_wine_type_loss: 0.0140 - val_wine_quality_root_mean_squared_error: 0.6440 - val_wine_type_accuracy: 0.9975\n",
      "Epoch 40/40\n",
      "3155/3155 [==============================] - 0s 86us/sample - loss: 0.3747 - wine_quality_loss: 0.3419 - wine_type_loss: 0.0333 - wine_quality_root_mean_squared_error: 0.5843 - wine_type_accuracy: 0.9943 - val_loss: 0.4237 - val_wine_quality_loss: 0.4067 - val_wine_type_loss: 0.0138 - val_wine_quality_root_mean_squared_error: 0.6402 - val_wine_type_accuracy: 0.9975\n"
     ]
    }
   ],
   "source": [
    "## Please uncomment all lines in this cell and replace those marked with `# YOUR CODE HERE`.\n",
    "## You can select all lines in this code cell with Ctrl+A (Windows/Linux) or Cmd+A (Mac), then press Ctrl+/ (Windows/Linux) or Cmd+/ (Mac) to uncomment.\n",
    "\n",
    "\n",
    "\n",
    "history = model.fit(norm_train_X, train_Y,\n",
    "                     epochs = 40, validation_data=(norm_val_X, val_Y))"
   ]
  },
  {
   "cell_type": "code",
   "execution_count": 49,
   "metadata": {
    "deletable": false,
    "editable": false,
    "nbgrader": {
     "cell_type": "code",
     "checksum": "fadad8896eda9c8c2115970724b15508",
     "grade": true,
     "grade_id": "cell-eb4d5b41bef8f0ab",
     "locked": true,
     "points": 1,
     "schema_version": 3,
     "solution": false,
     "task": false
    }
   },
   "outputs": [
    {
     "name": "stdout",
     "output_type": "stream",
     "text": [
      "\u001b[92m All public tests passed\n"
     ]
    }
   ],
   "source": [
    "utils.test_history(history)"
   ]
  },
  {
   "cell_type": "code",
   "execution_count": 50,
   "metadata": {
    "colab": {},
    "colab_type": "code",
    "id": "CubF2J2gSf6q"
   },
   "outputs": [
    {
     "name": "stdout",
     "output_type": "stream",
     "text": [
      "789/789 [==============================] - 0s 21us/sample - loss: 0.4237 - wine_quality_loss: 0.4067 - wine_type_loss: 0.0138 - wine_quality_root_mean_squared_error: 0.6402 - wine_type_accuracy: 0.9975\n",
      "\n",
      "loss: 0.42368215800313747\n",
      "wine_quality_loss: 0.4066946506500244\n",
      "wine_type_loss: 0.013819854706525803\n",
      "wine_quality_rmse: 0.6401810646057129\n",
      "wine_type_accuracy: 0.9974651336669922\n"
     ]
    }
   ],
   "source": [
    "# Gather the training metrics\n",
    "loss, wine_quality_loss, wine_type_loss, wine_quality_rmse, wine_type_accuracy = model.evaluate(x=norm_val_X, y=val_Y)\n",
    "\n",
    "print()\n",
    "print(f'loss: {loss}')\n",
    "print(f'wine_quality_loss: {wine_quality_loss}')\n",
    "print(f'wine_type_loss: {wine_type_loss}')\n",
    "print(f'wine_quality_rmse: {wine_quality_rmse}')\n",
    "print(f'wine_type_accuracy: {wine_type_accuracy}')\n",
    "\n",
    "# EXPECTED VALUES\n",
    "# ~ 0.30 - 0.38\n",
    "# ~ 0.30 - 0.38\n",
    "# ~ 0.018 - 0.036\n",
    "# ~ 0.50 - 0.62\n",
    "# ~ 0.97 - 1.0\n",
    "\n",
    "# Example:\n",
    "#0.3657050132751465\n",
    "#0.3463745415210724\n",
    "#0.019330406561493874\n",
    "#0.5885359048843384\n",
    "#0.9974651336669922"
   ]
  },
  {
   "cell_type": "markdown",
   "metadata": {
    "colab_type": "text",
    "id": "gPtTGAP4usnm"
   },
   "source": [
    "## Analyze the Model Performance\n",
    "\n",
    "Note that the model has two outputs. The output at index 0 is quality and index 1 is wine type\n",
    "\n",
    "So, round the quality predictions to the nearest integer."
   ]
  },
  {
   "cell_type": "code",
   "execution_count": 51,
   "metadata": {
    "colab": {},
    "colab_type": "code",
    "id": "tBq9PEeAaW-Y"
   },
   "outputs": [],
   "source": [
    "predictions = model.predict(norm_test_X)\n",
    "quality_pred = predictions[0]\n",
    "type_pred = predictions[1]"
   ]
  },
  {
   "cell_type": "code",
   "execution_count": 52,
   "metadata": {
    "colab": {},
    "colab_type": "code",
    "id": "YLhgTR4xTIxj"
   },
   "outputs": [
    {
     "name": "stdout",
     "output_type": "stream",
     "text": [
      "[6.0055075]\n"
     ]
    }
   ],
   "source": [
    "print(quality_pred[0])\n",
    "\n",
    "# EXPECTED OUTPUT\n",
    "# 5.4 - 6.0"
   ]
  },
  {
   "cell_type": "code",
   "execution_count": 53,
   "metadata": {
    "colab": {},
    "colab_type": "code",
    "id": "MPi-eYfGTUXi"
   },
   "outputs": [
    {
     "name": "stdout",
     "output_type": "stream",
     "text": [
      "[0.00023861]\n",
      "[3.4316858e-05]\n"
     ]
    }
   ],
   "source": [
    "print(type_pred[0])\n",
    "print(type_pred[944])\n",
    "\n",
    "# EXPECTED OUTPUT\n",
    "# A number close to zero\n",
    "# A number close to or equal to 1"
   ]
  },
  {
   "cell_type": "markdown",
   "metadata": {
    "colab_type": "text",
    "id": "Kohk-9C6vt_s"
   },
   "source": [
    "### Plot Utilities\n",
    "\n",
    "We define a few utilities to visualize the model performance."
   ]
  },
  {
   "cell_type": "code",
   "execution_count": 54,
   "metadata": {
    "colab": {},
    "colab_type": "code",
    "id": "62gEOFUhn6aQ"
   },
   "outputs": [],
   "source": [
    "def plot_metrics(metric_name, title, ylim=5):\n",
    "    plt.title(title)\n",
    "    plt.ylim(0,ylim)\n",
    "    plt.plot(history.history[metric_name],color='blue',label=metric_name)\n",
    "    plt.plot(history.history['val_' + metric_name],color='green',label='val_' + metric_name)\n"
   ]
  },
  {
   "cell_type": "code",
   "execution_count": 55,
   "metadata": {
    "colab": {},
    "colab_type": "code",
    "id": "6rfgSx7uz5dj"
   },
   "outputs": [],
   "source": [
    "def plot_confusion_matrix(y_true, y_pred, title='', labels=[0,1]):\n",
    "    cm = confusion_matrix(y_true, y_pred)\n",
    "    fig = plt.figure()\n",
    "    ax = fig.add_subplot(111)\n",
    "    cax = ax.matshow(cm)\n",
    "    plt.title('Confusion matrix of the classifier')\n",
    "    fig.colorbar(cax)\n",
    "    ax.set_xticklabels([''] + labels)\n",
    "    ax.set_yticklabels([''] + labels)\n",
    "    plt.xlabel('Predicted')\n",
    "    plt.ylabel('True')\n",
    "    fmt = 'd'\n",
    "    thresh = cm.max() / 2.\n",
    "    for i, j in itertools.product(range(cm.shape[0]), range(cm.shape[1])):\n",
    "          plt.text(j, i, format(cm[i, j], fmt),\n",
    "                  horizontalalignment=\"center\",\n",
    "                  color=\"black\" if cm[i, j] > thresh else \"white\")\n",
    "    plt.show()"
   ]
  },
  {
   "cell_type": "code",
   "execution_count": 56,
   "metadata": {
    "colab": {},
    "colab_type": "code",
    "id": "dfVLIqi017Vf"
   },
   "outputs": [],
   "source": [
    "def plot_diff(y_true, y_pred, title = '' ):\n",
    "    plt.scatter(y_true, y_pred)\n",
    "    plt.title(title)\n",
    "    plt.xlabel('True Values')\n",
    "    plt.ylabel('Predictions')\n",
    "    plt.axis('equal')\n",
    "    plt.axis('square')\n",
    "    plt.plot([-100, 100], [-100, 100])\n",
    "    return plt"
   ]
  },
  {
   "cell_type": "markdown",
   "metadata": {
    "colab_type": "text",
    "id": "8sd1jdFbwE0I"
   },
   "source": [
    "### Plots for Metrics"
   ]
  },
  {
   "cell_type": "code",
   "execution_count": 57,
   "metadata": {
    "colab": {},
    "colab_type": "code",
    "id": "f3MwZ5J1pOfj"
   },
   "outputs": [
    {
     "data": {
      "image/png": "[encoded data removed]",
      "text/plain": [
       "<Figure size 432x288 with 1 Axes>"
      ]
     },
     "metadata": {
      "needs_background": "light"
     },
     "output_type": "display_data"
    }
   ],
   "source": [
    "plot_metrics('wine_quality_root_mean_squared_error', 'RMSE', ylim=2)"
   ]
  },
  {
   "cell_type": "code",
   "execution_count": 58,
   "metadata": {
    "colab": {},
    "colab_type": "code",
    "id": "QIAxEezCppnd"
   },
   "outputs": [
    {
     "data": {
      "image/png": "[encoded data removed]",
      "text/plain": [
       "<Figure size 432x288 with 1 Axes>"
      ]
     },
     "metadata": {
      "needs_background": "light"
     },
     "output_type": "display_data"
    }
   ],
   "source": [
    "plot_metrics('wine_type_loss', 'Wine Type Loss', ylim=0.2)"
   ]
  },
  {
   "cell_type": "markdown",
   "metadata": {
    "colab_type": "text",
    "id": "uYV9AOAMwI9p"
   },
   "source": [
    "### Plots for Confusion Matrix\n",
    "\n",
    "Plot the confusion matrices for wine type. You can see that the model performs well for prediction of wine type from the confusion matrix and the loss metrics."
   ]
  },
  {
   "cell_type": "code",
   "execution_count": 59,
   "metadata": {
    "colab": {},
    "colab_type": "code",
    "id": "C3hvTYxIaf3n"
   },
   "outputs": [
    {
     "data": {
      "image/png": "[encoded data removed]",
      "text/plain": [
       "<Figure size 432x288 with 2 Axes>"
      ]
     },
     "metadata": {
      "needs_background": "light"
     },
     "output_type": "display_data"
    }
   ],
   "source": [
    "plot_confusion_matrix(test_Y[1], np.round(type_pred), title='Wine Type', labels = [0, 1])"
   ]
  },
  {
   "cell_type": "code",
   "execution_count": 60,
   "metadata": {
    "colab": {},
    "colab_type": "code",
    "id": "GW91ym8P2I5y"
   },
   "outputs": [
    {
     "data": {
      "image/png": "[encoded data removed]",
      "text/plain": [
       "<Figure size 432x288 with 1 Axes>"
      ]
     },
     "metadata": {
      "needs_background": "light"
     },
     "output_type": "display_data"
    }
   ],
   "source": [
    "scatter_plot = plot_diff(test_Y[0], quality_pred, title='Type')"
   ]
  },
  {
   "cell_type": "code",
   "execution_count": null,
   "metadata": {},
   "outputs": [],
   "source": []
  }
 ],
 "metadata": {
  "colab": {
   "include_colab_link": true,
   "name": "exercise-answer.ipynb",
   "provenance": []
  },
  "kernelspec": {
   "display_name": "Python 3",
   "language": "python",
   "name": "python3"
  },
  "language_info": {
   "codemirror_mode": {
    "name": "ipython",
    "version": 3
   },
   "file_extension": ".py",
   "mimetype": "text/x-python",
   "name": "python",
   "nbconvert_exporter": "python",
   "pygments_lexer": "ipython3",
   "version": "3.7.6"
  }
 },
 "nbformat": 4,
 "nbformat_minor": 4
}
